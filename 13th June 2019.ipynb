{
 "cells": [
  {
   "cell_type": "markdown",
   "metadata": {},
   "source": [
    "## Advanced Problem Set\n",
    "* Function to calculate average of all factorials in a given range \n",
    "* Function to generate Nodd Armstrong numbers \n",
    "* Function to generate the multiplication table for a number in a range \n",
    "            * 10 in the range (100,110) inclusive \n",
    "            * 10 x 100 = 100\n",
    "            * 10 x 101 = 1010\n",
    "            * 10 x 102 = 1020\n",
    "            \n",
    "* Function to print the alternative values in a range "
   ]
  },
  {
   "cell_type": "code",
   "execution_count": 6,
   "metadata": {},
   "outputs": [
    {
     "name": "stdout",
     "output_type": "stream",
     "text": [
      "500 504 508 512 516 520 524 "
     ]
    }
   ],
   "source": [
    "\n",
    "#[500 ,550] -->500,501,502...550\n",
    "#(500 ,550) -->501,501,502...549\n",
    "#range(500 ,550) -->500,501,502...549\n",
    "# All the based functions in Python have start value inclusive\n",
    "\n",
    "# Function to print the alternative values in a range \n",
    "def alternateValue(start,end):\n",
    "    for value in range(start,end+1, 4):\n",
    "        print(value,end=\" \")\n",
    "    return\n",
    "alternateValue(500,525)\n"
   ]
  },
  {
   "cell_type": "code",
   "execution_count": 27,
   "metadata": {},
   "outputs": [
    {
     "name": "stdout",
     "output_type": "stream",
     "text": [
      "10 9 8 7 6 5 4 3 2 1 "
     ]
    }
   ],
   "source": [
    "#Function to print reverse of given range in the \n",
    "def reverseRange(start,end):\n",
    "    for value in range(end,start-1,-1):\n",
    "        print(value, end=\" \")\n",
    "    return\n",
    "reverseRange(1,10)"
   ]
  },
  {
   "cell_type": "code",
   "execution_count": 34,
   "metadata": {},
   "outputs": [
    {
     "name": "stdout",
     "output_type": "stream",
     "text": [
      "9 7 5 3 1 "
     ]
    }
   ],
   "source": [
    "#Funtion print the odd numbers in reverse order in a range\n",
    "def reverseOddNumbers(start,end):\n",
    "    for i in range(end,start-1,-1):\n",
    "        if i%2!=0:\n",
    "            print(i,end=\" \")\n",
    "    return\n",
    "reverseOddNumbers(1,10)"
   ]
  },
  {
   "cell_type": "code",
   "execution_count": 37,
   "metadata": {},
   "outputs": [
    {
     "data": {
      "text/plain": [
       "101"
      ]
     },
     "execution_count": 37,
     "metadata": {},
     "output_type": "execute_result"
    }
   ],
   "source": [
    "#Calculate the sume of numbers in a range \n",
    "def sumRange(start,end):\n",
    "    sum=0\n",
    "    for i in range (start,end+1):\n",
    "        sum=sum+1\n",
    "    return sum\n",
    "sumRange(100,200)\n",
    "#sum of all n natural numbers \n",
    "200* 201/2- (100*101)/2"
   ]
  },
  {
   "cell_type": "code",
   "execution_count": 52,
   "metadata": {},
   "outputs": [
    {
     "data": {
      "text/plain": [
       "3.0"
      ]
     },
     "execution_count": 52,
     "metadata": {},
     "output_type": "execute_result"
    }
   ],
   "source": [
    "#function to calculate the average of a given range\n",
    "#(1,5)->3\n",
    "def avgGivenRange(st,end):\n",
    "    sum =0\n",
    "   # count =0\n",
    "    for i in range(st,end+1):\n",
    "        sum =sum +i   #sum calculation \n",
    "    #    count =count +1    #counting number of values \n",
    "  #  return sum/count\n",
    "    return sum/(end-st+1)\n",
    "avgGivenRange(1,5)\n",
    "        \n",
    "        "
   ]
  },
  {
   "cell_type": "code",
   "execution_count": 68,
   "metadata": {},
   "outputs": [
    {
     "name": "stdout",
     "output_type": "stream",
     "text": [
      "1920 1924 1928 1932 1936 1940 1944 1948 1952 1956 1960 1964 1968 1972 1976 1980 1984 1988 1992 1996 2000 2004 2008 2012 2016 "
     ]
    }
   ],
   "source": [
    "#Function t generate al leap in a given time period \n",
    "#2000 -2020 -> 2000 2004 2008 2012 2016 2020 \n",
    "#isLeapyear(year) #To check if a given year is lease \n",
    "\n",
    "#generate LEapyear(startYear,endYear)#uses the isLeapYear()\n",
    "def isLeapYear(year):\n",
    "    if year%400 == 0  or (year %100!=0 and year % 4==0):\n",
    "        return True\n",
    "    return False\n",
    "#isLeapYear(2014)\n",
    "def genertateLeapYear(sy,se):\n",
    "    for year in range(sy,se+1):\n",
    "        if isLeapYear(year):\n",
    "            print(year,end=\" \")\n",
    "    return\n",
    "genertateLeapYear(1919,2019)"
   ]
  },
  {
   "cell_type": "code",
   "execution_count": 113,
   "metadata": {},
   "outputs": [
    {
     "data": {
      "text/plain": [
       "36890"
      ]
     },
     "execution_count": 113,
     "metadata": {},
     "output_type": "execute_result"
    }
   ],
   "source": [
    "#Calculate the number of days in a given time period using Leapyear ,if the year is \n",
    "def isLeapYear(year):\n",
    "    if year % 400 == 0 or (year % 100 !=0 and year % 4==0):\n",
    "        return True\n",
    "    return False \n",
    "isLeapYear(2000)\n",
    "def numberOfDays(sy,se):\n",
    "    sum =0\n",
    "    for year in range(sy,se+1):\n",
    "        if isLeapYear(year):\n",
    "            sum =sum +366\n",
    "        else:\n",
    "            sum = sum +365\n",
    "        \n",
    "    return sum\n",
    "numberOfDays(1919,2019)\n"
   ]
  },
  {
   "cell_type": "code",
   "execution_count": 120,
   "metadata": {},
   "outputs": [
    {
     "ename": "IndentationError",
     "evalue": "unindent does not match any outer indentation level (<tokenize>, line 28)",
     "output_type": "error",
     "traceback": [
      "\u001b[1;36m  File \u001b[1;32m\"<tokenize>\"\u001b[1;36m, line \u001b[1;32m28\u001b[0m\n\u001b[1;33m    else:\u001b[0m\n\u001b[1;37m    ^\u001b[0m\n\u001b[1;31mIndentationError\u001b[0m\u001b[1;31m:\u001b[0m unindent does not match any outer indentation level\n"
     ]
    }
   ],
   "source": [
    "#Calculate the number of hours for a given period \n",
    "#(11,1975,3,1999)\n",
    "#2,2017,6,2019\n",
    "#[all days from feb 2016 to dec 2016,all days.All days fro year between start and end ,all days from jan to june 2019]\n",
    "#No of hours =24 * No. of days\n",
    "#Three Steps:\n",
    "    #step1:1. Start month years to end of year -calculate no of days\n",
    "    #2.Calculate dates for all years between start year and end year \n",
    "            #2017,2018 - 365 * no of years \n",
    "    #3.Calculate days from jan to end month year \n",
    "#Excluding\n",
    "#First Six mont --1,3,4,5,6,7\n",
    "#Last Six Months --8,9,10,11,12\n",
    "#All even months have 31 days \n",
    "#All odd nths have 30 ays \n",
    "#31 days -(onth <=7  and moth % 2! = 0) and month != 2 and month %2==0)\n",
    "              #  return 31\n",
    "   # else \n",
    "   #         return 30\n",
    "        \n",
    "def noOfDays(month):\n",
    "    if month <= 7 and month % 2 !=0 :\n",
    "        return 31\n",
    "    else:\n",
    "        return 30\n",
    "    elif (month <= 7 and moth % 2!=0 ) or (month >= 8 and month >=12 )\n",
    "        return 31\n",
    "     else:\n",
    "        return 30\n",
    "#numberOfDayMonth(4,2019)\n",
    "def daysInStartYear(startmont,startyear):\n",
    "    day=0\n",
    "    for month in range(startmont,13):\n",
    "        days +=noOfDays(month,startyear)\n",
    "        return days \n",
    "#daysInstartYear(6,2019)\n",
    "daysInstartYear(12,2013)#31\n",
    "def daysInEndYear(endmonth ,endyear):\n",
    "    days = 0\n",
    "    for month in range(1,endmonth+1)\n",
    "        days +=noOfDays(month,endyear)\n",
    "    return days\n",
    "daysInEndYear(6,2019) #181 days 2, (2019--59)\n",
    "\n",
    "\n",
    "                "
   ]
  },
  {
   "cell_type": "code",
   "execution_count": 112,
   "metadata": {},
   "outputs": [
    {
     "name": "stdout",
     "output_type": "stream",
     "text": [
      "26 years\n"
     ]
    }
   ],
   "source": [
    "  \n",
    "from datetime import date \n",
    "  \n",
    "def calculateAge(birthDate): \n",
    "    today = date.today() \n",
    "    age = today.year - birthDate.year - ((today.month, today.day) < (birthDate.month, birthDate.day)) \n",
    "  \n",
    "    return age \n",
    "      \n",
    "# Driver code  \n",
    "print(calculateAge(date(1993, 6, 8)), \"years\") "
   ]
  },
  {
   "cell_type": "code",
   "execution_count": null,
   "metadata": {},
   "outputs": [],
   "source": [
    "\n"
   ]
  }
 ],
 "metadata": {
  "kernelspec": {
   "display_name": "Python 3",
   "language": "python",
   "name": "python3"
  },
  "language_info": {
   "codemirror_mode": {
    "name": "ipython",
    "version": 3
   },
   "file_extension": ".py",
   "mimetype": "text/x-python",
   "name": "python",
   "nbconvert_exporter": "python",
   "pygments_lexer": "ipython3",
   "version": "3.7.3"
  }
 },
 "nbformat": 4,
 "nbformat_minor": 2
}
