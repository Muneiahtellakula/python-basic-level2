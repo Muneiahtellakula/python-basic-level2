{
 "cells": [
  {
   "cell_type": "markdown",
   "metadata": {},
   "source": [
    "# Note Book Basics\n",
    "# bold \n",
    "* muni\n",
    "* **muni**\n",
    "* *muni*\n",
    "* ***muni***\n",
    "#Sublist\n",
    "    *  sublist\n",
    "    *  sublist2\n",
    "    \n",
    "   1. ordered list \n",
    "   2. ordered list 2\n",
    "   3. ordered list 3 \n",
    "   4. ordered list 4\n",
    "# Image adding \n",
    "- [x] option 1\n",
    "- [x] option 2\n",
    "- [x] option 3\n",
    "\n",
    "[APSSDC-jobs-2018-notification.png](ap.png)\n",
    "![APSSDC-jobs-2018-notification.png](ap.png)\n",
    "<img src=\"ap.png\" style=\"float:left\"><br>\n",
    "I get 10 times more traffic from [Google][] than from\n",
    "[Yahoo][] or [MSN][].\n",
    "\n",
    "  [google]: http://google.com/        \"Google\"\n",
    "  [yahoo]:  http://search.yahoo.com/  \"Yahoo Search\"\n",
    "  [msn]:    http://search.msn.com/    \"MSN Search\"\n",
    "\n",
    "\n",
    "\n",
    "\n",
    "Both of the above examples will produce the following HTML output:\n",
    "\n",
    "<p>I get 10 times more traffic from <a href=\"http://google.com/\"\n",
    "title=\"Google\">Google</a> than from\n",
    "<a href=\"http://search.yahoo.com/\" title=\"Yahoo Search\">Yahoo</a>\n",
    "or <a href=\"http://search.msn.com/\" title=\"MSN Search\">MSN</a>.</p>\n",
    "\n",
    "\n",
    "print(\" Hello world Markdown\")<br>\n",
    "\n",
    "markdown@gmail.com"
   ]
  },
  {
   "cell_type": "markdown",
   "metadata": {},
   "source": [
    "#  Python Basics \n",
    "Python version 3.7\n",
    "OOPS "
   ]
  },
  {
   "cell_type": "code",
   "execution_count": 17,
   "metadata": {},
   "outputs": [
    {
     "name": "stdout",
     "output_type": "stream",
     "text": [
      "Hello Good Evening  ! || Hello Python\n"
     ]
    }
   ],
   "source": [
    "# Python Comment \n",
    "print(\"Hello Good Evening \",\"!\",end=\" || \") # Basic Out Put\n",
    "print(\"Hello Python\")"
   ]
  },
  {
   "cell_type": "markdown",
   "metadata": {},
   "source": [
    "### Assignments "
   ]
  },
  {
   "cell_type": "code",
   "execution_count": 26,
   "metadata": {},
   "outputs": [
    {
     "name": "stdout",
     "output_type": "stream",
     "text": [
      "12 23 134\n"
     ]
    }
   ],
   "source": [
    "n1=123456 #single varible assignment \n",
    "n2 = n3 = n4 = n1                  #Multi Varible assignment \n",
    "n3\n",
    "a,b,c,d=12,23,134,4# Multli Variable Assignment \n",
    "b\n",
    "print(a,b,c)"
   ]
  },
  {
   "cell_type": "markdown",
   "metadata": {},
   "source": [
    "### Arthametic Oparators \n",
    "- [x] +\n",
    "- [x] -\n",
    "- [x] *\n",
    "- [x] /\n",
    "- [x] %\n",
    "- [x] **"
   ]
  },
  {
   "cell_type": "markdown",
   "metadata": {},
   "source": [
    "atoms= 10 ** 82\n",
    "len(str(atoms))\n",
    "atoms\n",
    "type(str(atoms))"
   ]
  },
  {
   "cell_type": "markdown",
   "metadata": {},
   "source": [
    "### Data Types "
   ]
  },
  {
   "cell_type": "markdown",
   "metadata": {},
   "source": [
    "1. Int\n",
    "2. Float\n",
    "3. String\n",
    "4. Dobule"
   ]
  },
  {
   "cell_type": "code",
   "execution_count": 60,
   "metadata": {},
   "outputs": [
    {
     "data": {
      "text/plain": [
       "34.0"
      ]
     },
     "execution_count": 60,
     "metadata": {},
     "output_type": "execute_result"
    }
   ],
   "source": [
    "s1=\"muni\"\n",
    "f1=34.98\n",
    "type(s1)\n",
    "type(f1)\n",
    "float(str(int(f1)))"
   ]
  },
  {
   "cell_type": "code",
   "execution_count": 40,
   "metadata": {
    "scrolled": false
   },
   "outputs": [
    {
     "data": {
      "text/plain": [
       "180302106304044807508140927865938572807342688638559680488440159857958502360813732502197826969863225730871630436419794758932074350380367697649814626542926602664707275874269201777743912313197516323690221274713845895457748735309484337191373255527928271785206382967998984330482105350942229970677054940838210936952303939401656756127607778599667243702814072746219431942293005416411635076021296045493305133645615566590735965652587934290425473827719935012870093575987789431818047013404691795773170405764614646054949298846184678296813625595333311611385251735244505448443050050547161779229749134489643622579100908331839817426366854332416"
      ]
     },
     "execution_count": 40,
     "metadata": {},
     "output_type": "execute_result"
    }
   ],
   "source": [
    "n1 % 11\n",
    "n3 =n2 ** 123\n",
    "type(n3)\n",
    "#len(str(n3))\n",
    "n3"
   ]
  },
  {
   "cell_type": "markdown",
   "metadata": {},
   "source": [
    "### Conditionals\n",
    "Boolean "
   ]
  },
  {
   "cell_type": "code",
   "execution_count": 47,
   "metadata": {},
   "outputs": [
    {
     "data": {
      "text/plain": [
       "False"
      ]
     },
     "execution_count": 47,
     "metadata": {},
     "output_type": "execute_result"
    }
   ],
   "source": [
    "atoms < 10 ** 79"
   ]
  },
  {
   "cell_type": "code",
   "execution_count": 50,
   "metadata": {},
   "outputs": [
    {
     "data": {
      "text/plain": [
       "True"
      ]
     },
     "execution_count": 50,
     "metadata": {},
     "output_type": "execute_result"
    }
   ],
   "source": [
    "atoms < 10 ** 99"
   ]
  },
  {
   "cell_type": "code",
   "execution_count": 64,
   "metadata": {},
   "outputs": [
    {
     "data": {
      "text/plain": [
       "6130687873308026945890176790042303730066739281"
      ]
     },
     "execution_count": 64,
     "metadata": {},
     "output_type": "execute_result"
    }
   ],
   "source": [
    "len(str(atoms))\n",
    "type(str(atoms))\n",
    "122321 ** 9\n"
   ]
  },
  {
   "cell_type": "code",
   "execution_count": 79,
   "metadata": {},
   "outputs": [
    {
     "name": "stdout",
     "output_type": "stream",
     "text": [
      "True\n"
     ]
    }
   ],
   "source": [
    "\n",
    "if atoms < 10 ** 96:\n",
    "    print(\"True\")\n",
    "else:\n",
    "    print(\"false\")"
   ]
  },
  {
   "cell_type": "code",
   "execution_count": 81,
   "metadata": {},
   "outputs": [
    {
     "name": "stdout",
     "output_type": "stream",
     "text": [
      "Odd\n"
     ]
    }
   ],
   "source": [
    "#Check if number is even \n",
    "n=123\n",
    "if n % 2 == 0:\n",
    "    print(\"even\")\n",
    "else: \n",
    "    print(\"Odd\")\n",
    "    "
   ]
  },
  {
   "cell_type": "code",
   "execution_count": 85,
   "metadata": {},
   "outputs": [
    {
     "name": "stdout",
     "output_type": "stream",
     "text": [
      "enter the first number-1\n",
      "enter the second number-100\n",
      "enter the third number-1\n",
      "-1 is the greatest \n"
     ]
    }
   ],
   "source": [
    "# Find the Greatest Numbers\n",
    "n1 = int(input(\"enter the first number\"))\n",
    "n2 = int(input(\"enter the second number\"))\n",
    "n3 = int(input(\"enter the third number\"))\n",
    "if n1 > n2 and n1 > n3:\n",
    "    print(n1,\"is the greatest \")\n",
    "elif n2 > n3:\n",
    "    print(n2,\"is the greatest \")\n",
    "else:\n",
    "    print(n3,\"is the greatest \")"
   ]
  },
  {
   "cell_type": "code",
   "execution_count": null,
   "metadata": {},
   "outputs": [],
   "source": [
    "#-1 > -100 and -1 > -50 "
   ]
  },
  {
   "cell_type": "code",
   "execution_count": 94,
   "metadata": {},
   "outputs": [
    {
     "name": "stdout",
     "output_type": "stream",
     "text": [
      "Enter the year 2014\n",
      "2014 Given number is not leap year\n"
     ]
    }
   ],
   "source": [
    "# check if year is a Leap year\n",
    "year=int(input(\"Enter the year \"))\n",
    "if year % 400 ==0 or (year % 100 !=0  and year % 4==0):\n",
    "    print(year,\"Given year is year\")\n",
    "else:\n",
    "    print(year,\"Given number is not leap year\")"
   ]
  },
  {
   "cell_type": "code",
   "execution_count": 97,
   "metadata": {},
   "outputs": [
    {
     "name": "stdout",
     "output_type": "stream",
     "text": [
      "enter the number74275778678\n",
      "11\n"
     ]
    }
   ],
   "source": [
    "#calculate number of digits in a number \n",
    "num=int(input(\"enter the number\"))\n",
    "print(len(str(num)))\n",
    "#Check if a number is a multiple of 10 \n",
    "#check if a number a factor of 1000\n",
    "#check if given string is eqval to a number \n",
    "#Calculate the squre root of a number with out using any functions\n",
    "#Calculate the number of nano seconds in a given year (considering leap year logic)"
   ]
  },
  {
   "cell_type": "code",
   "execution_count": 102,
   "metadata": {},
   "outputs": [
    {
     "name": "stdout",
     "output_type": "stream",
     "text": [
      "enter the number2\n",
      "2 not multiple of 10 \n"
     ]
    }
   ],
   "source": [
    "#Check if a number is a multiple of 10 \n",
    "num1=int(input(\"enter the number\"))\n",
    "if num1%10==0:\n",
    "    print(num1,\"number is  multiple of 10 \")\n",
    "else:\n",
    "    print(num1,\"not multiple of 10 \")"
   ]
  },
  {
   "cell_type": "code",
   "execution_count": 113,
   "metadata": {},
   "outputs": [
    {
     "name": "stdout",
     "output_type": "stream",
     "text": [
      "enter the number10\n",
      "10 is factor of 1000\n"
     ]
    }
   ],
   "source": [
    "#check if a number a factor of 1000\n",
    "n=int(input(\"enter the number\"))\n",
    "if 1000 % n==0:\n",
    "    print(n,\"is factor of 1000\")\n",
    "else:\n",
    "    print(n,\"is not factor of 1000\")"
   ]
  },
  {
   "cell_type": "code",
   "execution_count": 105,
   "metadata": {},
   "outputs": [
    {
     "name": "stdout",
     "output_type": "stream",
     "text": [
      "1234 is not eqval to  python\n"
     ]
    }
   ],
   "source": [
    "#check if given string is eqval to a number \n",
    "s1=\"python\"\n",
    "n1=1234\n",
    "if str(n1) == s1:\n",
    "    print( n1,\"is eqval to \",s1)\n",
    "else:\n",
    "    print( n1,\"is not eqval to \",s1)"
   ]
  },
  {
   "cell_type": "code",
   "execution_count": 106,
   "metadata": {},
   "outputs": [
    {
     "data": {
      "text/plain": [
       "11.090536506409418"
      ]
     },
     "execution_count": 106,
     "metadata": {},
     "output_type": "execute_result"
    }
   ],
   "source": [
    "#Calculate the squre root of a number with out using any functions\n",
    "n1=123\n",
    "n1 ** 0.5"
   ]
  },
  {
   "cell_type": "code",
   "execution_count": 110,
   "metadata": {},
   "outputs": [
    {
     "name": "stdout",
     "output_type": "stream",
     "text": [
      "Enter the year 2014\n",
      "525600000000000\n",
      "2014 Given number is not leap year\n"
     ]
    }
   ],
   "source": [
    "#Calculate the number of nano seconds in a given year (considering leap year logic)\n",
    "#first check yeap year or not\n",
    "year=int(input(\"Enter the year \"))\n",
    "if year % 400 ==0 or (year % 100 !=0  and year % 4==0):\n",
    "    print(366*24*60*(10**9))\n",
    "    print(year,\"Given year is year leap \")\n",
    "else:\n",
    "    print(365*24*60*(10**9))\n",
    "    print(year,\"Given number is not leap year\")"
   ]
  },
  {
   "cell_type": "code",
   "execution_count": null,
   "metadata": {},
   "outputs": [],
   "source": []
  },
  {
   "cell_type": "code",
   "execution_count": null,
   "metadata": {},
   "outputs": [],
   "source": []
  }
 ],
 "metadata": {
  "kernelspec": {
   "display_name": "Python 3",
   "language": "python",
   "name": "python3"
  },
  "language_info": {
   "codemirror_mode": {
    "name": "ipython",
    "version": 3
   },
   "file_extension": ".py",
   "mimetype": "text/x-python",
   "name": "python",
   "nbconvert_exporter": "python",
   "pygments_lexer": "ipython3",
   "version": "3.7.3"
  }
 },
 "nbformat": 4,
 "nbformat_minor": 2
}
