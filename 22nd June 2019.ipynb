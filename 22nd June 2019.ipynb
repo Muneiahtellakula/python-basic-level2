{
 "cells": [
  {
   "cell_type": "markdown",
   "metadata": {},
   "source": [
    "### Date : 22-JUNE-2019\n",
    "* Day Objective\n",
    "   *  File Handling\n",
    "   *  Basic file Data Processing\n",
    "   *  Accessing and modifying files\n",
    "   * Charecter count\n",
    "    * Line count\n",
    "    * Filesize\n",
    "   *  Word count\n",
    "   * Unique word count"
   ]
  },
  {
   "cell_type": "code",
   "execution_count": 2,
   "metadata": {},
   "outputs": [
    {
     "name": "stdout",
     "output_type": "stream",
     "text": [
      "new DataLine2\n"
     ]
    }
   ],
   "source": [
    "# function to read a entire file into a \n",
    "# read a file - file should exist(read)\n",
    " # Write a file - Existing(append) or New file(write)\n",
    "\n",
    "def readFile(filepath):\n",
    "    with open(filepath, 'r') as f:\n",
    "        filedata = f.read() # reads entire file data into a string\n",
    "    return filedata\n",
    "\n",
    "filepath = 'datafolder/data.txt'\n",
    "print(readFile(filepath))"
   ]
  },
  {
   "cell_type": "code",
   "execution_count": 3,
   "metadata": {},
   "outputs": [
    {
     "data": {
      "text/plain": [
       "11"
      ]
     },
     "execution_count": 3,
     "metadata": {},
     "output_type": "execute_result"
    }
   ],
   "source": [
    "#charecter count\n",
    "def charectercount(filepath):\n",
    "    with open(filepath,'r') as f:\n",
    "        count=0\n",
    "        for line in f.read():\n",
    "            if line.isalpha():\n",
    "                count=count+1\n",
    "        return count\n",
    "filepath='datafolder/data.txt'\n",
    "charectercount(filepath)"
   ]
  },
  {
   "cell_type": "code",
   "execution_count": 4,
   "metadata": {},
   "outputs": [
    {
     "data": {
      "text/plain": [
       "1"
      ]
     },
     "execution_count": 4,
     "metadata": {},
     "output_type": "execute_result"
    }
   ],
   "source": [
    "#line count\n",
    "def linecount(filepath):\n",
    "    with open(filepath,'r') as f:\n",
    "        line=0\n",
    "        for i in f:\n",
    "            line=line+1\n",
    "        return (line)\n",
    "filepath='datafolder/data.txt'\n",
    "linecount(filepath)"
   ]
  },
  {
   "cell_type": "code",
   "execution_count": 5,
   "metadata": {},
   "outputs": [
    {
     "name": "stdout",
     "output_type": "stream",
     "text": [
      "13 bytes\n"
     ]
    }
   ],
   "source": [
    "#file size\n",
    "import os\n",
    "def filesize(filepath):\n",
    "    b=os.path.getsize(filepath)\n",
    "    if b<1000:\n",
    "        print(b,\"bytes\")\n",
    "    else:\n",
    "        a=b//1000\n",
    "        print(a,\"kb\")\n",
    "filepath=('datafolder/data.txt')\n",
    "filesize(filepath)"
   ]
  },
  {
   "cell_type": "code",
   "execution_count": 6,
   "metadata": {},
   "outputs": [
    {
     "data": {
      "text/plain": [
       "2"
      ]
     },
     "execution_count": 6,
     "metadata": {},
     "output_type": "execute_result"
    }
   ],
   "source": [
    "#word count\n",
    "def wordcount(filepath):\n",
    "    with open(filepath,'r') as f:\n",
    "        count=0\n",
    "        for line in f:\n",
    "            w=line.split(\" \")\n",
    "            for i in w:\n",
    "                count=count+1\n",
    "        return count\n",
    "filepath='datafolder/data.txt'\n",
    "wordcount(filepath)"
   ]
  },
  {
   "cell_type": "code",
   "execution_count": 7,
   "metadata": {},
   "outputs": [
    {
     "name": "stdout",
     "output_type": "stream",
     "text": [
      "{'new': 1, 'DataLine2': 1}\n"
     ]
    }
   ],
   "source": [
    "#unique word count\n",
    "def uniqwordcount(filepath):\n",
    "    count = {}\n",
    "   # filepath = 'packages/marks.txt'\n",
    "    with open(filepath,'r') as f:\n",
    "        filedata = f.read()\n",
    "        f1 = filedata.split()\n",
    "        for i in f1:\n",
    "            if i in count:\n",
    "                count[i] += 1\n",
    "            else:\n",
    "                count[i] = 1\n",
    "        print(count)\n",
    "uniqwordcount('datafolder/data.txt')\n",
    "            "
   ]
  },
  {
   "cell_type": "code",
   "execution_count": null,
   "metadata": {},
   "outputs": [],
   "source": []
  }
 ],
 "metadata": {
  "kernelspec": {
   "display_name": "Python 3",
   "language": "python",
   "name": "python3"
  },
  "language_info": {
   "codemirror_mode": {
    "name": "ipython",
    "version": 3
   },
   "file_extension": ".py",
   "mimetype": "text/x-python",
   "name": "python",
   "nbconvert_exporter": "python",
   "pygments_lexer": "ipython3",
   "version": "3.7.3"
  }
 },
 "nbformat": 4,
 "nbformat_minor": 2
}
