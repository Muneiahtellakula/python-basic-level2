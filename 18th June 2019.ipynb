{
 "cells": [
  {
   "cell_type": "markdown",
   "metadata": {},
   "source": [
    "# Play with numbers\n",
    "### You are given an array of n numbers and q queries. For each query you have to print the floor of the expected value(mean) of the subarray from L to R.\n",
    "\n",
    "\n",
    "First line contains two integers N and Q denoting number of array elements and number of queries.\n",
    "\n",
    "Next line contains N space seperated integers denoting array elements.\n",
    "\n",
    "Next Q lines contain two integers L and R(indices of the array).\n",
    "\n",
    "\n",
    "print a single integer denoting the answer.\n",
    "\n",
    " :\n",
    "\n",
    "1<= N ,Q,L,R <= 10^6\n",
    "\n",
    "1<= Array elements <= 10^9\n",
    "\n",
    "NOTE\n",
    "\n",
    "Use Fast I/O\n",
    "\n",
    "Problem setter : Sheldon Tauro\n",
    "\n",
    "SAMPLE INPUT <br>\n",
    "5 3\n",
    "1 2 3 4 5\n",
    "1 3\n",
    "2 4\n",
    "2 5<br>\n",
    "SAMPLE OUTPUT <br>\n",
    "2 \n",
    "3\n",
    "3"
   ]
  },
  {
   "cell_type": "code",
   "execution_count": 5,
   "metadata": {},
   "outputs": [
    {
     "ename": "SyntaxError",
     "evalue": "invalid syntax (<ipython-input-5-170b743bf68f>, line 3)",
     "output_type": "error",
     "traceback": [
      "\u001b[1;36m  File \u001b[1;32m\"<ipython-input-5-170b743bf68f>\"\u001b[1;36m, line \u001b[1;32m3\u001b[0m\n\u001b[1;33m    a=input().split()\u001b[0m\n\u001b[1;37m    ^\u001b[0m\n\u001b[1;31mSyntaxError\u001b[0m\u001b[1;31m:\u001b[0m invalid syntax\n"
     ]
    }
   ],
   "source": [
    "n=input().split()\n",
    "n[0],n[1]=int(n[0],int(n[1])\n",
    "a=input().split()\n",
    "    sum=[]\n",
    "#Cumulative Sum\n",
    "for i in range(0,n):\n",
    "    if i== 0:\n",
    "        sum[i]=a[i]\n",
    "    else:\n",
    "        sum.append(int(a[i]))\n",
    "print(sum[n[0]-1])\n",
    "\n",
    "\n",
    "\n",
    "#i j ->sum[j]-sum[i-1] // j-i+1\n"
   ]
  },
  {
   "cell_type": "markdown",
   "metadata": {},
   "source": [
    "### Special Number\n",
    "A special number is defined as a number which has at least <br>\n",
    "write a program to determine whethar a number n is a special \n"
   ]
  },
  {
   "cell_type": "code",
   "execution_count": 16,
   "metadata": {},
   "outputs": [
    {
     "data": {
      "text/plain": [
       "True"
      ]
     },
     "execution_count": 16,
     "metadata": {},
     "output_type": "execute_result"
    }
   ],
   "source": [
    "#determine if a number is a special number or not\n",
    "#Step :1# Funtion to check if number is prime \n",
    "def isPrime(n):\n",
    "    flag =1\n",
    "    if n==2:\n",
    "        return True\n",
    "    for i in range(2,n//2 + 1):\n",
    "        if n %  i== 0:\n",
    "            flag =0\n",
    "        return False\n",
    "    if flag ==1:\n",
    "        return True\n",
    "isPrime(2)\n",
    "        \n",
    "        \n",
    "#Function to Determine number of prime factors for a given number \n",
    "\n"
   ]
  },
  {
   "cell_type": "code",
   "execution_count": 20,
   "metadata": {},
   "outputs": [
    {
     "data": {
      "text/plain": [
       "3"
      ]
     },
     "execution_count": 20,
     "metadata": {},
     "output_type": "execute_result"
    }
   ],
   "source": [
    "#determine if a number is a special number or not\n",
    "# Funtion to check if number is prime \n",
    "def isPrime(n):\n",
    "    flag =1\n",
    "    if n==2:\n",
    "        return True\n",
    "    for i in range(2,n//2 + 1):\n",
    "        if n %  i== 0:\n",
    "            flag =0\n",
    "            return False\n",
    "    if flag ==1:\n",
    "        return True\n",
    "#isPrime()\n",
    "        \n",
    "        \n",
    "#Function to Determine number of prime factors for a given number \n",
    "#step 2:\n",
    "def numberPrimeFactors(n):# 2,3,5\n",
    "    if isPrime(n):\n",
    "        return 1\n",
    "    count=0\n",
    "    for i in range(2,n//2):#dobule // is not a flot\n",
    "        if isPrime(i) and n%i==0:\n",
    "            count +=1\n",
    "    return count\n",
    "numberPrimeFactors(30)"
   ]
  },
  {
   "cell_type": "code",
   "execution_count": 23,
   "metadata": {},
   "outputs": [
    {
     "data": {
      "text/plain": [
       "False"
      ]
     },
     "execution_count": 23,
     "metadata": {},
     "output_type": "execute_result"
    }
   ],
   "source": [
    "#Step 3:#determine if a number is a special number or not\n",
    "def isSpecialNumber(n,p):\n",
    "    if numberPrimeFactors(n) >=p:\n",
    "        return True\n",
    "    return False\n",
    "# Funtion to check if number is prime \n",
    "def isPrime(n):\n",
    "    flag =1\n",
    "    if n==2:\n",
    "        return True\n",
    "    for i in range(2,n//2 + 1):\n",
    "        if n %  i== 0:\n",
    "            flag =0\n",
    "            return False\n",
    "    if flag ==1:\n",
    "        return True\n",
    "#isPrime()\n",
    "        \n",
    "        \n",
    "#Function to Determine number of prime factors for a given number \n",
    "#step 2:\n",
    "def numberPrimeFactors(n):# 2,3,5\n",
    "    if isPrime(n):\n",
    "        return 1\n",
    "    count=0\n",
    "    for i in range(2,n//2):#dobule // is not a flot\n",
    "        if isPrime(i) and n%i==0:\n",
    "            count +=1\n",
    "    return count\n",
    "#numberPrimeFactors(30)\n",
    "isSpecialNumber(1,2)\n"
   ]
  },
  {
   "cell_type": "code",
   "execution_count": null,
   "metadata": {},
   "outputs": [
    {
     "name": "stdout",
     "output_type": "stream",
     "text": [
      "2\n",
      "3\n",
      "6\n",
      "NO\n",
      "7\n",
      "NO\n"
     ]
    }
   ],
   "source": [
    "#Step 3:#determine if a number is a special number or not\n",
    "def isSpecialNumber(n,p):\n",
    "    if numberPrimeFactors(n) >=p:\n",
    "        return True\n",
    "    return False\n",
    "# Funtion to check if number is prime \n",
    "def isPrime(n):\n",
    "    flag =1\n",
    "    if n==2:\n",
    "        return True\n",
    "    for i in range(2,n//2 + 1):\n",
    "        if n %  i== 0:\n",
    "            flag =0\n",
    "            return False\n",
    "    if flag ==1:\n",
    "        return True\n",
    "#isPrime()\n",
    "        \n",
    "        \n",
    "#Function to Determine number of prime factors for a given number \n",
    "#step 2:\n",
    "def numberPrimeFactors(n):# 2,3,5\n",
    "    if isPrime(n):\n",
    "        return 1\n",
    "    count=0\n",
    "    for i in range(2,n//2):#dobule // is not a flot\n",
    "        if isPrime(i) and n%i==0:\n",
    "            count +=1\n",
    "    return count\n",
    "#numberPrimeFactors(30)\n",
    "#isSpecialNumber(1,2)\n",
    "def sloution2():\n",
    "    p=int(input())\n",
    "    t=int(input())\n",
    "    for i in range(0,t):\n",
    "        n=int(input())\n",
    "        if isSpecialNumber(n,p):\n",
    "            print(\"YES\")\n",
    "        else:\n",
    "            print(\"NO\")\n",
    "sloution2()\n",
    "#isSpecialNumber(30,2)   \n"
   ]
  },
  {
   "cell_type": "markdown",
   "metadata": {},
   "source": [
    "### Problem 3 :Highest Reminder\n",
    "Write a progrm to find a natural number that is smaller number then N such highest reminder when divided by that number<br>\n",
    "If there is more than one such number ,print the smallest number<br>\n",
    "\n",
    "N \n",
    "highest = 0\n",
    "x < n and n% x == highest\n",
    "\n",
    "10\n",
    "9\n",
    "\n",
    "5 0\n",
    "\n"
   ]
  },
  {
   "cell_type": "code",
   "execution_count": 3,
   "metadata": {},
   "outputs": [
    {
     "name": "stdout",
     "output_type": "stream",
     "text": [
      "3\n"
     ]
    }
   ],
   "source": [
    "def highestRamainder(n):\n",
    "    hr=0\n",
    "    v=n\n",
    "    for i in range(n-1,n // 2,-1):\n",
    "        r= n%i\n",
    "        if r>hr:\n",
    "            hr=r\n",
    "            v=i\n",
    "    print(v)\n",
    "    return\n",
    "highestRamainder(5)"
   ]
  },
  {
   "cell_type": "markdown",
   "metadata": {},
   "source": [
    "# Tuples \n",
    "#### Difarences between Lists and Tuples\n",
    "Tuple-->()<br>\n",
    "List -->[]<br>\n",
    "List Are Mutable-->Can be changes or modofied <br>\n",
    "        * LIsts are used to access mofifiers <br>\n",
    "                * Access,Modeify,Delete data<br>\n",
    "Tuples are immutale -->Cann't be change or updated once inisilised<br>\n",
    "(it just like as a variable) like values <br>\n",
    "        * fix data<br>\n",
    "        * Tuples used to access data only <br>\n",
    "        "
   ]
  },
  {
   "cell_type": "code",
   "execution_count": 12,
   "metadata": {},
   "outputs": [
    {
     "data": {
      "text/plain": [
       "tuple"
      ]
     },
     "execution_count": 12,
     "metadata": {},
     "output_type": "execute_result"
    }
   ],
   "source": [
    "t1=(1,2,8,6,0)\n",
    "t1\n",
    "type(t1)"
   ]
  },
  {
   "cell_type": "code",
   "execution_count": 11,
   "metadata": {},
   "outputs": [
    {
     "data": {
      "text/plain": [
       "(8, 6, 0)"
      ]
     },
     "execution_count": 11,
     "metadata": {},
     "output_type": "execute_result"
    }
   ],
   "source": [
    "#Accessing Element \n",
    "t1[3]#Accessing 4th Element\n",
    "#Accessing All elements from middle to last \n",
    "t1[::]\n",
    "t1[len(t1)//2:]\n"
   ]
  },
  {
   "cell_type": "markdown",
   "metadata": {},
   "source": [
    "# Dictionires\n",
    "* It works on the concept of set \n",
    "* Unique Data\n",
    "- [x] key ,Value\n",
    "    - [x] Key is the unique identifier for a value\n",
    "    - [x] Value is data taht can be accessed with a key \n",
    "* Defination of Dictionary\n",
    "    - [x] d1={ }"
   ]
  },
  {
   "cell_type": "code",
   "execution_count": 27,
   "metadata": {},
   "outputs": [
    {
     "data": {
      "text/plain": [
       "True"
      ]
     },
     "execution_count": 27,
     "metadata": {},
     "output_type": "execute_result"
    }
   ],
   "source": [
    "d1={\"k1\":\"value1\",\"k2\":\"value2\"}#Defination\n",
    "d1[\"k2\"]#Accessing Data through key\n",
    "d1.keys()#All key accessing.Returns list of all keys \n",
    "d1.values()#All values are returned .Returns list of all values \n",
    "d1.items()#Both Key and values gets .Returns list of tuples \n",
    "d1[\"k3\"]=\"value3\"#updating  an item\n",
    "d1[\"k4\"]=\"value4\"#\n",
    "d1.pop(\"k3\")#Deleting an item\n",
    "d1\n",
    "\"k1\" in d1#Searching in a dictinory"
   ]
  },
  {
   "cell_type": "markdown",
   "metadata": {},
   "source": [
    "# # Build a simple contacts application \n",
    "- [x] Add Contacts \n",
    "- [x] Remove Contact\n",
    "- [x] Search for contact\n",
    "- [x] modify contacts \n",
    "- [x] List all contacts\n",
    "            - name1 : phone1\n",
    "            - name2 : phone2\n"
   ]
  },
  {
   "cell_type": "code",
   "execution_count": 11,
   "metadata": {},
   "outputs": [
    {
     "name": "stdout",
     "output_type": "stream",
     "text": [
      "contacts ramireddy added\n"
     ]
    }
   ],
   "source": [
    "contacts={}\n",
    "def addContacts(name,phone):\n",
    "    #verify that the contacts doesnot already exists in dictionary\n",
    "    if name not in contacts:\n",
    "        contacts[name]=phone\n",
    "        print(\"contacts %s added\"%name)\n",
    "    else:\n",
    "        print(\"contacts %s already exists \"%name)\n",
    "    return\n",
    "addContacts(\"ramireddy\",\"123\")   "
   ]
  },
  {
   "cell_type": "code",
   "execution_count": 12,
   "metadata": {},
   "outputs": [
    {
     "name": "stdout",
     "output_type": "stream",
     "text": [
      "ramireddy : 123\n"
     ]
    }
   ],
   "source": [
    "def searchContacts(name):\n",
    "    if name in contacts: \n",
    "        print(name,\":\",contacts[name])\n",
    "    else:\n",
    "        print(\"%s does not exists\"%name)\n",
    "searchContacts(\"ramireddy\")      "
   ]
  },
  {
   "cell_type": "code",
   "execution_count": 18,
   "metadata": {},
   "outputs": [
    {
     "name": "stdout",
     "output_type": "stream",
     "text": [
      "contacts ramireddy1 added\n"
     ]
    }
   ],
   "source": [
    "addContacts(\"ramireddy1\",\"123\")"
   ]
  },
  {
   "cell_type": "code",
   "execution_count": 19,
   "metadata": {},
   "outputs": [
    {
     "data": {
      "text/plain": [
       "{'ramireddy': '123', 'ramireddy1': '123'}"
      ]
     },
     "execution_count": 19,
     "metadata": {},
     "output_type": "execute_result"
    }
   ],
   "source": [
    "contacts"
   ]
  },
  {
   "cell_type": "code",
   "execution_count": 35,
   "metadata": {},
   "outputs": [
    {
     "name": "stdout",
     "output_type": "stream",
     "text": [
      "3 Added successfully\n"
     ]
    }
   ],
   "source": [
    "# New Contacts is given as a dictionary\n",
    "#Merge new contacts with existing contacts\n",
    "def importContacts(newContacts):\n",
    "    contacts.update(newContacts)\n",
    "    print(len(newContacts.keys()),\"Added successfully\")\n",
    "    return\n",
    "newContacts={\"n\":9876543210, \"n1\":75578778686, \"n2\":556555785}\n",
    "importContacts(newContacts)"
   ]
  },
  {
   "cell_type": "code",
   "execution_count": 36,
   "metadata": {},
   "outputs": [
    {
     "data": {
      "text/plain": [
       "175"
      ]
     },
     "execution_count": 36,
     "metadata": {},
     "output_type": "execute_result"
    }
   ],
   "source": [
    "5*35"
   ]
  },
  {
   "cell_type": "code",
   "execution_count": 37,
   "metadata": {},
   "outputs": [
    {
     "data": {
      "text/plain": [
       "68.57142857142857"
      ]
     },
     "execution_count": 37,
     "metadata": {},
     "output_type": "execute_result"
    }
   ],
   "source": [
    "480/7"
   ]
  },
  {
   "cell_type": "markdown",
   "metadata": {},
   "source": [
    "# Packages and Modules\n",
    "  **Package** --> A single python file <br> \n",
    "  **Module**   -->subpackages -->modules->"
   ]
  },
  {
   "cell_type": "code",
   "execution_count": 38,
   "metadata": {},
   "outputs": [
    {
     "data": {
      "text/plain": [
       "123"
      ]
     },
     "execution_count": 38,
     "metadata": {},
     "output_type": "execute_result"
    }
   ],
   "source": [
    "import math\n",
    "math.floor(123.456)"
   ]
  },
  {
   "cell_type": "code",
   "execution_count": 39,
   "metadata": {},
   "outputs": [
    {
     "data": {
      "text/plain": [
       "3.141592653589793"
      ]
     },
     "execution_count": 39,
     "metadata": {},
     "output_type": "execute_result"
    }
   ],
   "source": [
    "math.pi\n"
   ]
  },
  {
   "cell_type": "code",
   "execution_count": 40,
   "metadata": {},
   "outputs": [
    {
     "data": {
      "text/plain": [
       "34"
      ]
     },
     "execution_count": 40,
     "metadata": {},
     "output_type": "execute_result"
    }
   ],
   "source": [
    "from math import floor\n",
    "floor(34.42)"
   ]
  },
  {
   "cell_type": "code",
   "execution_count": 44,
   "metadata": {},
   "outputs": [
    {
     "data": {
      "text/plain": [
       "3.141592653589793"
      ]
     },
     "execution_count": 44,
     "metadata": {},
     "output_type": "execute_result"
    }
   ],
   "source": [
    "from math import floor,pi\n",
    "floor(878.98)\n",
    "pi"
   ]
  },
  {
   "cell_type": "code",
   "execution_count": 45,
   "metadata": {},
   "outputs": [
    {
     "data": {
      "text/plain": [
       "123"
      ]
     },
     "execution_count": 45,
     "metadata": {},
     "output_type": "execute_result"
    }
   ],
   "source": [
    "from math import floor as f1\n",
    "f1(123.44)"
   ]
  },
  {
   "cell_type": "code",
   "execution_count": 47,
   "metadata": {},
   "outputs": [
    {
     "data": {
      "text/plain": [
       "39"
      ]
     },
     "execution_count": 47,
     "metadata": {},
     "output_type": "execute_result"
    }
   ],
   "source": [
    "from math import floor as muni\n",
    "muni(39.44)"
   ]
  },
  {
   "cell_type": "code",
   "execution_count": 49,
   "metadata": {},
   "outputs": [
    {
     "data": {
      "text/plain": [
       "74"
      ]
     },
     "execution_count": 49,
     "metadata": {},
     "output_type": "execute_result"
    }
   ],
   "source": [
    "#Function to generate randome module\n",
    "import random\n",
    "random.randint(0,100)"
   ]
  },
  {
   "cell_type": "code",
   "execution_count": 1,
   "metadata": {},
   "outputs": [
    {
     "name": "stdout",
     "output_type": "stream",
     "text": [
      "25 65 71 4 16 71 80 23 46 28 "
     ]
    }
   ],
   "source": [
    "#how to genetare n random numbers \n",
    "import random\n",
    "#list=[]\n",
    "def genRanNum(n,lb,up):\n",
    "    for i in range(0,n):\n",
    "        print(random.randint(lb,up),end=\" \")\n",
    "       # list.append(random.randint(lb,up),end=\" \")\n",
    "genRanNum(10,0,100)        \n"
   ]
  },
  {
   "cell_type": "code",
   "execution_count": 9,
   "metadata": {},
   "outputs": [
    {
     "data": {
      "text/plain": [
       "True"
      ]
     },
     "execution_count": 9,
     "metadata": {},
     "output_type": "execute_result"
    }
   ],
   "source": [
    "#custom package\n",
    "from packages import numarical\n",
    "#numarical.numberPrimeFactors(1000)\n",
    "numarical.isPrime(103)"
   ]
  },
  {
   "cell_type": "code",
   "execution_count": 11,
   "metadata": {},
   "outputs": [
    {
     "data": {
      "text/plain": [
       "True"
      ]
     },
     "execution_count": 11,
     "metadata": {},
     "output_type": "execute_result"
    }
   ],
   "source": [
    "#Short form calling from packages\n",
    "from packages.numarical import isPrime\n",
    "isPrime(103)"
   ]
  },
  {
   "cell_type": "code",
   "execution_count": 1,
   "metadata": {},
   "outputs": [
    {
     "name": "stdout",
     "output_type": "stream",
     "text": [
      "180\n",
      "1\n",
      "220 220\n",
      "ACCEPTED\n"
     ]
    }
   ],
   "source": [
    "l=int(input())\n",
    "nt=int(input())\n",
    "def uplofProfPic(l):\n",
    "    s=input()\n",
    "    s=s.split()\n",
    "    w=int(s[0])\n",
    "    h=int(s[1])\n",
    "    if(w<l) or (h<l):\n",
    "        print(\"UPLOAD ANOTHER\")\n",
    "    elif(w==h):\n",
    "        print(\"ACCEPTED\")\n",
    "    else:\n",
    "        print(\"CROP IT\")\n",
    "for i in range(1,nt+1):\n",
    "    uplofProfPic(l)     "
   ]
  },
  {
   "cell_type": "code",
   "execution_count": null,
   "metadata": {},
   "outputs": [],
   "source": []
  }
 ],
 "metadata": {
  "kernelspec": {
   "display_name": "Python 3",
   "language": "python",
   "name": "python3"
  },
  "language_info": {
   "codemirror_mode": {
    "name": "ipython",
    "version": 3
   },
   "file_extension": ".py",
   "mimetype": "text/x-python",
   "name": "python",
   "nbconvert_exporter": "python",
   "pygments_lexer": "ipython3",
   "version": "3.7.3"
  }
 },
 "nbformat": 4,
 "nbformat_minor": 2
}
