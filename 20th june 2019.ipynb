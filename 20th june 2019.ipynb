{
 "cells": [
  {
   "cell_type": "markdown",
   "metadata": {},
   "source": [
    "## Day Objectives:\n",
    "#### Regular Expressions:\n",
    "- Constructing Regular Expressions\n",
    "- Regular Expressions Module and related in python\n",
    "- Improving the contacts application with name and phone number validation using regular expressions\n",
    "* File Handling\n",
    "    - Text files\n",
    "    - upgrading the contacts application to store contact information in a text file\n"
   ]
  },
  {
   "cell_type": "markdown",
   "metadata": {},
   "source": [
    "## Regular Expressions\n",
    "    - Pattern Matching\n",
    "    - Symbolic Notation of pattern\n",
    "        - Pattern :Format which repeats\n",
    "        - Pattern(RE) -Reprasents the set of all vales strings which match that pattern\n",
    "    - [0-9]-->It reprasents return any digit\n",
    "    - [a-z]-->Any lower case alphabet\n",
    "    - [2468]-->All single digit multiples of 2\n",
    "            - [8642]\n",
    "            - [6824]\n",
    "    - ^[0-9]{1}$-->Only single digit number\n",
    "    - ^[0-9]{3}$ -->Only 3 digit number\n",
    "    - [0-9]*0$ --> All munltiples of 10 \n",
    "    - ^[1-9][0-9]*0$ -->starting value digit\n",
    "    - ^[1-9][0-9]*[05]$  - All multiples of 5---(^([1-9][0-9]*[05])|([5])$)\n",
    "       ^[0-9][0-9]{9}$  - all 10 digit number \n",
    "    - (word)$ or [w][o][r][d] Searching of a word\n",
    "    - ^[6-9][0-9]{9}$ - Validating phone number(India)(Start with 9876 followed by 9 digits\n",
    "    \n",
    "             - ^[6-9][0-9]{9}$|[0][6-9][0-9]{9}$ -->zero accepted\n",
    "             - ^[6-9][0-9]{9}$|[0][6-9][0-9]{9}$ -->+91 adding(^[6-9][0-9]{9}$|[0][6-9][0-9]{9}|^[+91]|^[+][9][1][6-9]{9}$)\n",
    "        - Email Validation ( userdname@domine.extenstion )\n",
    "                - username \n",
    "                    - Lengh of the user name :[6,15] charecter\n",
    "                    - No special charecters other then _.\n",
    "                    - shoud not begin with _.\n",
    "                    - Charecter set :all digits and lowercase alphabet\n",
    "                 ^[0-9a-z][0-9a-z_.]{4,13}[0-9a-z]$   \n",
    "                - domain\n",
    "                    - Lenght of the domain :[3:18]\n",
    "                    - No Special charecters \n",
    "                    - Charecter set :all digits and lower case alphabet\n",
    "                         @+[a-z0-9]{4,15}.\n",
    "                - extension \n",
    "                    - Lenght of the extention :[2,4]\n",
    "                    - No Special charecters \n",
    "                    - Charecter set :all lower case alphabet\n",
    "  ## Email Regular expression -->\n",
    "   ^[0-9a-z][0-9a-z_.]{4,13}[0-9a-z][@][a-z0-9]{3,18}[.][a-z]{2,4}$\n",
    "    \n",
    "   - ^[a]...[z]$-->any string of 5 length srting with 'a' and ending with 'z' \n",
    "   - ^[a].*[z]$ -->Any string of any Length starting with 'a' and ending with 'z' \n",
    "         "
   ]
  },
  {
   "cell_type": "code",
   "execution_count": 9,
   "metadata": {},
   "outputs": [
    {
     "name": "stdout",
     "output_type": "stream",
     "text": [
      "Invalid Number\n"
     ]
    }
   ],
   "source": [
    "#Function to vallidate a phone number using Regular expression \n",
    "import re\n",
    "\n",
    "def phoneNumValidate(num):\n",
    "    pattern='^[6-9][0-9]{9}$|[0][6-9][0-9]{9}$'\n",
    "    if re.match(pattern,str(num)):\n",
    "        print(\"Valid number\")\n",
    "    else:\n",
    "        print(\"Invalid Number\")\n",
    "    return\n",
    "#phoneNumValidate(9849161938)\n",
    "phoneNumValidate(1234567890)"
   ]
  },
  {
   "cell_type": "code",
   "execution_count": 15,
   "metadata": {},
   "outputs": [
    {
     "name": "stdout",
     "output_type": "stream",
     "text": [
      "contacts g added\n",
      "Valid number\n",
      "contacts g already exists \n"
     ]
    },
    {
     "data": {
      "text/plain": [
       "{'g': '123'}"
      ]
     },
     "execution_count": 15,
     "metadata": {},
     "output_type": "execute_result"
    }
   ],
   "source": [
    "contacts={}\n",
    "def addContacts(name,phone,email):\n",
    "    #verify that the contacts doesnot already exists in dictionary\n",
    "    if name not in contacts:\n",
    "        contacts[name]=phone\n",
    "        print(\"contacts %s added\"%name)\n",
    "    elif\n",
    "        print(\"contacts %s already exists \"%name)\n",
    "    return\n",
    "addContacts(\"g\",\"123\")  \n",
    "contacts"
   ]
  },
  {
   "cell_type": "code",
   "execution_count": 62,
   "metadata": {},
   "outputs": [
    {
     "name": "stdout",
     "output_type": "stream",
     "text": [
      "g already exist.\n"
     ]
    }
   ],
   "source": [
    "def addcontact(name,phone,email):\n",
    "    #verify that the contact does not already exist\n",
    "    if name in contacts:\n",
    "        print(name,\"already exist.\")\n",
    "    else:\n",
    "        if not phoneNumValidate(phone):\n",
    "            print(\"Invalid Phone number\")\n",
    "            return\n",
    "        if not emailvalidator(email):\n",
    "            print(\"Ivalid email address\")\n",
    "            return\n",
    "        newcontact=[]\n",
    "        newcontact.append(phone)\n",
    "        newcontact.append(email)\n",
    "        contacts[name]=newcontact\n",
    "    return\n",
    "addcontact(\"g\",\"123\",\"atm.1234@gmail.com\")\n"
   ]
  },
  {
   "cell_type": "code",
   "execution_count": 64,
   "metadata": {},
   "outputs": [
    {
     "ename": "AttributeError",
     "evalue": "'dict' object has no attribute 'add'",
     "output_type": "error",
     "traceback": [
      "\u001b[1;31m---------------------------------------------------------------------------\u001b[0m",
      "\u001b[1;31mAttributeError\u001b[0m                            Traceback (most recent call last)",
      "\u001b[1;32m<ipython-input-64-94246b68cdc4>\u001b[0m in \u001b[0;36m<module>\u001b[1;34m\u001b[0m\n\u001b[1;32m----> 1\u001b[1;33m \u001b[0mcontacts\u001b[0m\u001b[1;33m.\u001b[0m\u001b[0madd\u001b[0m\u001b[1;33m(\u001b[0m\u001b[1;34m\"u1\"\u001b[0m\u001b[1;33m,\u001b[0m\u001b[1;34m\"78965433210\"\u001b[0m\u001b[1;33m,\u001b[0m\u001b[1;34m\"example._123@yahoo.com\"\u001b[0m\u001b[1;33m)\u001b[0m\u001b[1;33m\u001b[0m\u001b[1;33m\u001b[0m\u001b[0m\n\u001b[0m",
      "\u001b[1;31mAttributeError\u001b[0m: 'dict' object has no attribute 'add'"
     ]
    }
   ],
   "source": [
    "contacts.(\"u1\",\"78965433210\",\"example._123@yahoo.com\")\n"
   ]
  },
  {
   "cell_type": "code",
   "execution_count": 63,
   "metadata": {},
   "outputs": [
    {
     "name": "stdout",
     "output_type": "stream",
     "text": [
      "g\n",
      "phone : 1\n",
      "Email id : 2\n"
     ]
    }
   ],
   "source": [
    "def searchcontacts(name):\n",
    "    if name in contacts:\n",
    "        print(name)\n",
    "        print(\"phone :\",contacts[name][0])\n",
    "        print(\"Email id :\",contacts[name][1])\n",
    "    else:\n",
    "        print(\"%s does not exist\"%name)\n",
    "    return\n",
    "searchcontacts(\"g\")"
   ]
  },
  {
   "cell_type": "code",
   "execution_count": 65,
   "metadata": {},
   "outputs": [
    {
     "name": "stdout",
     "output_type": "stream",
     "text": [
      "g\n",
      "Mobile: 1\n",
      "email:  2\n"
     ]
    }
   ],
   "source": [
    "\n",
    "def Listallcontacts():\n",
    "    for i in contacts:\n",
    "        print(i)\n",
    "        print(\"Mobile:\",contacts[i][0])\n",
    "        print(\"email: \",contacts[i][1])\n",
    "Listallcontacts()"
   ]
  },
  {
   "cell_type": "code",
   "execution_count": 18,
   "metadata": {},
   "outputs": [
    {
     "name": "stdout",
     "output_type": "stream",
     "text": [
      "Valid email\n"
     ]
    }
   ],
   "source": [
    "\n",
    "def emailValidate(email):\n",
    "    pattern='^[0-9a-z][0-9a-z_.]{4,13}[0-9a-z][@][a-z0-9]{3,18}[.][a-z]{2,4}$'\n",
    "    if re.match(pattern,str(email)):\n",
    "        print(\"Valid email\")\n",
    "    else:\n",
    "        print(\"Invalid email\")\n",
    "    return\n",
    "#phoneNumValidate(9849161938)\n",
    "emailValidate(\"muni.apssdc@gmail.com\")"
   ]
  },
  {
   "cell_type": "code",
   "execution_count": 66,
   "metadata": {},
   "outputs": [
    {
     "name": "stdout",
     "output_type": "stream",
     "text": [
      "Contact not in list\n"
     ]
    }
   ],
   "source": [
    "def modifycontact(name,phone):\n",
    "    if name in contacts:\n",
    "        contacts[name]=phone\n",
    "    else:\n",
    "        print(\"Contact not in list\")\n",
    "modifycontact(\"muni\",9849161938)"
   ]
  },
  {
   "cell_type": "markdown",
   "metadata": {},
   "source": [
    "# File Handling in Python\n",
    "    - File Document Containing information residing\n",
    "    - Types \n",
    "        - Text,Pdf,Csv..etc\n",
    "        - File I/O- Challenging I/O to files \n",
    "          - For defaulty I/O channels - keyboard /Screen\n",
    "    - Change I/O Channel to files for Reading and writing \n",
    "    - Read a file -Input \n",
    "    - Writing to a file -Output to a file \n",
    "    - Read / write fiel -open (filename,mode)\n",
    "    \n",
    "    \n",
    "    "
   ]
  },
  {
   "cell_type": "code",
   "execution_count": 20,
   "metadata": {},
   "outputs": [
    {
     "name": "stdout",
     "output_type": "stream",
     "text": [
      "text\n"
     ]
    },
    {
     "data": {
      "text/plain": [
       "'text'"
      ]
     },
     "execution_count": 20,
     "metadata": {},
     "output_type": "execute_result"
    }
   ],
   "source": [
    "s = input()\n",
    "s"
   ]
  },
  {
   "cell_type": "code",
   "execution_count": 41,
   "metadata": {},
   "outputs": [
    {
     "name": "stdout",
     "output_type": "stream",
     "text": [
      "Line1\n",
      "Line2 \n",
      "Line3\n",
      "Line4Line1\n",
      "Line2 \n",
      "Line3\n",
      "Line4\n"
     ]
    }
   ],
   "source": [
    "# Funtion to Read a file\n",
    "def readFile(filename):\n",
    "    f = open(filename,'r')\n",
    "    filedata=f.read()\n",
    "    f.close()\n",
    "    return filedata\n",
    "filename='datafolder/data.txt'\n",
    "#for line in readFile(filename).split('\\n'):\n",
    "  #  print(line)\n",
    "\n",
    "\n",
    "def printFileDataLines(filename):\n",
    "    #f=open(filename,'r')\n",
    "    with open(filename,'r') as f:\n",
    "        for line in f:\n",
    "        #print(line)\n",
    "            print(line,end='')\n",
    "        return\n",
    "\n",
    "printFileDataLines(filename)\n",
    "print(readFile(filename))"
   ]
  },
  {
   "cell_type": "code",
   "execution_count": 54,
   "metadata": {},
   "outputs": [],
   "source": [
    "# Function to write data into a file\n",
    "\n",
    "def writeIntoFile(filename,filedata):\n",
    "    with open(filename,'w') as f:\n",
    "        f.write(filedata)\n",
    "    return\n",
    "filename='datafolder/data.txt'\n",
    "writeIntoFile(filename,\"new Data\")\n",
    "    "
   ]
  },
  {
   "cell_type": "code",
   "execution_count": 57,
   "metadata": {},
   "outputs": [],
   "source": [
    "# Function to append data to a file \n",
    "def appendDataToFile(filename,filedata):\n",
    "    with open(filename,'a') as f:\n",
    "        f.write(filedata)\n",
    "        return \n",
    "filedata=(\"Line2\")\n",
    "appendDataToFile(filename,filedata)"
   ]
  },
  {
   "cell_type": "code",
   "execution_count": null,
   "metadata": {},
   "outputs": [],
   "source": []
  }
 ],
 "metadata": {
  "kernelspec": {
   "display_name": "Python 3",
   "language": "python",
   "name": "python3"
  },
  "language_info": {
   "codemirror_mode": {
    "name": "ipython",
    "version": 3
   },
   "file_extension": ".py",
   "mimetype": "text/x-python",
   "name": "python",
   "nbconvert_exporter": "python",
   "pygments_lexer": "ipython3",
   "version": "3.7.3"
  }
 },
 "nbformat": 4,
 "nbformat_minor": 2
}
