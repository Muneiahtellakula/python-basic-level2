{
 "cells": [
  {
   "cell_type": "code",
   "execution_count": 2,
   "metadata": {},
   "outputs": [
    {
     "name": "stdout",
     "output_type": "stream",
     "text": [
      "1 2\n",
      "1 3\n",
      "1 4\n",
      "2 3\n",
      "2 4\n",
      "3 4\n"
     ]
    }
   ],
   "source": [
    "#Funtion to print all combination of pairs of integers in a list \n",
    "\n",
    "#[1,2,3]->(1,2),(1,3),(2,3)-->3C2 ->3!((3-2)!*2!)==> formula gives the total count\n",
    "# [1,2,3,4]->(1,2),(1,3),(1,4),(2,3),(2,4),(3,4)\n",
    "def combinations(li):\n",
    "    for i in range(len(li)-1):\n",
    "        for j in range(i+1,len(li)):\n",
    "            print(li[i],li[j])\n",
    "    return\n",
    "combinations([1,2,3,4])\n",
    "            \n",
    "\n",
    "            \n",
    "        \n",
    "    "
   ]
  },
  {
   "cell_type": "code",
   "execution_count": 18,
   "metadata": {},
   "outputs": [
    {
     "name": "stdout",
     "output_type": "stream",
     "text": [
      "1 )  1 2 3\n",
      "2 )  1 2 4\n",
      "3 )  1 2 5\n",
      "4 )  1 3 4\n",
      "5 )  1 3 5\n",
      "6 )  1 4 5\n",
      "7 )  2 3 4\n",
      "8 )  2 3 5\n",
      "9 )  2 4 5\n",
      "10 )  3 4 5\n"
     ]
    }
   ],
   "source": [
    "# [1,2,3,4]->(1,2,3),(1,2,4),(1,3,4),(2,3,4)\n",
    "def combinations3(li):\n",
    "    t=1\n",
    "    for i in range(len(li)-1):\n",
    "        for j in range(i+1,len(li)):\n",
    "            for k in range(j+1,len(li)):\n",
    "                print(t,\") \",li[i],li[j],li[k])\n",
    "                t=t+1\n",
    "    return\n",
    "combinations3([1,2,3,4,5])\n"
   ]
  },
  {
   "cell_type": "code",
   "execution_count": 29,
   "metadata": {},
   "outputs": [
    {
     "data": {
      "text/plain": [
       "[1, 9, 8, 7, 2]"
      ]
     },
     "execution_count": 29,
     "metadata": {},
     "output_type": "execute_result"
    }
   ],
   "source": [
    "# [1,2,3]->[1,2,3]\n",
    "#li=[1,2,3]\n",
    "def kLargestDiffarencePairs(li):\n",
    "    cli=li\n",
    "    for i in range(len(li)-1):\n",
    "        for j in range(i+1,len(li)):\n",
    "            d=abs(li[i]-li[j])#Aboslute diff\n",
    "            if d not in li:\n",
    "                cli.append(d)\n",
    "    return cli\n",
    "li=[1,9,8]\n",
    "kLargestDiffarencePairs(li)\n",
    "\n",
    "\n",
    "    "
   ]
  },
  {
   "cell_type": "code",
   "execution_count": null,
   "metadata": {},
   "outputs": [],
   "source": [
    "# [1,2,3]->[1,2,3]\n",
    "#li=[1,2,3]\n",
    "def medium(li):\n",
    "#     li3=[[],li]\n",
    "    count=1\n",
    "    while(True):\n",
    "        if count ==1:\n",
    "            li3=kLargestDiffarencePairs(li)\n",
    "   \n",
    "            if li[3]==li3[1]:\n",
    "                break\n",
    "        sorted(li3[0],reverse=True)\n",
    "        else:\n",
    "            li3=kLargestDiffarencePairs(li3[1])\n",
    "       \n",
    "    return li[0]\n",
    "def kLargestDiffarencePairs(li):\n",
    "    cli=li[:]\n",
    "    newelements=[]\n",
    "    for i in range(len(li)-1):\n",
    "        for j in range(i+1,len(li)):\n",
    "            d=abs(li[i]-li[j])#Aboslute diff\n",
    "            if d not in li and d not in newelements:\n",
    "                newelements.append(d)\n",
    "    li.extend(newelements)\n",
    " \n",
    "    return [cli,li]\n",
    "#li=[1,9,8,7,6,2,5,3,4]\n",
    "li=[1,9,8]\n",
    "medium(li)\n",
    "                "
   ]
  },
  {
   "cell_type": "code",
   "execution_count": 8,
   "metadata": {},
   "outputs": [
    {
     "data": {
      "text/plain": [
       "[1, 3, 2]"
      ]
     },
     "execution_count": 8,
     "metadata": {},
     "output_type": "execute_result"
    }
   ],
   "source": [
    "a=[1,2,3]\n",
    "b=[1,3,2]\n",
    "a=b[:]\n",
    "b.append(5)\n",
    "a"
   ]
  },
  {
   "cell_type": "code",
   "execution_count": 10,
   "metadata": {},
   "outputs": [
    {
     "data": {
      "text/plain": [
       "[[1, 9], [1, 9, 8]]"
      ]
     },
     "execution_count": 10,
     "metadata": {},
     "output_type": "execute_result"
    }
   ],
   "source": [
    "\n",
    "def solution(li,k):\n",
    "   count=1\n",
    "   while True:\n",
    "       li3=differencepairs(li)\n",
    "       if li3[0]==li3[1]:\n",
    "           break\n",
    "   if len(li3[0])>=k:\n",
    "       return sorted(li3[0],reverse=True) [k-1]\n",
    "   return -1\n",
    "# Function to identify deferences of all \n",
    "#pair of number and add those diffarences to the same list \n",
    "# It Returns the updated List an =d original list \n",
    "def differencepairs(li):\n",
    "   cli=li[:]\n",
    "   newelements=[]\n",
    "   \n",
    "   for i in range(len(li)-1):\n",
    "       for j in range(i+1,len(li)):\n",
    "           d = abs(li[i]-li[j])\n",
    "           if d not in li and d not in newelements :\n",
    "               newelements.append(d)\n",
    "   li.extend(newelements)\n",
    "   return [cli, li]\n",
    "li=[1,9]\n",
    "differencepairs(li)  "
   ]
  },
  {
   "cell_type": "code",
   "execution_count": 8,
   "metadata": {},
   "outputs": [
    {
     "data": {
      "text/plain": [
       "list"
      ]
     },
     "execution_count": 8,
     "metadata": {},
     "output_type": "execute_result"
    }
   ],
   "source": [
    "#Differencing a series \n",
    "[4,8]\n",
    "[20,40,60]\n",
    "[3,6,9,12]--3,6 3,9 3,12 6,9,\n",
    "[3,8,15]\n",
    "#Convert the list into an\n",
    "#Arthametic Progression\n",
    "[3,8]"
   ]
  },
  {
   "cell_type": "code",
   "execution_count": null,
   "metadata": {},
   "outputs": [],
   "source": [
    "\n",
    "def solution(li,k):\n",
    "   count=1\n",
    "   while True:\n",
    "       li3=differencepairs(li)\n",
    "       if li3[0]==li3[1]:\n",
    "           break\n",
    "   if len(li3[0])>=k:\n",
    "       return sorted(li3[0],reverse=True) [k-1]\n",
    "   return -1\n",
    "# Function to identify deferences of all \n",
    "#pair of number and add those diffarences to the same list \n",
    "# It Returns the updated List an =d original list \n",
    "def differencepairs(li):\n",
    "   cli=li[:]\n",
    "   newelements=[]\n",
    "   \n",
    "   for i in range(len(li)-1):\n",
    "       for j in range(i+1,len(li)):\n",
    "           d = abs(li[i]-li[j])\n",
    "           if d not in li and d not in newelements :\n",
    "               newelements.append(d)\n",
    "   li.extend(newelements)\n",
    "   return [cli, li]\n",
    "# li=[1,9]\n",
    "# differencepairs(li) \n",
    "with open('datafolder/medium-input.txt','r') as f:\n",
    "    t= int(f.readline)"
   ]
  },
  {
   "cell_type": "code",
   "execution_count": 11,
   "metadata": {},
   "outputs": [
    {
     "data": {
      "text/plain": [
       "576000000.0"
      ]
     },
     "execution_count": 11,
     "metadata": {},
     "output_type": "execute_result"
    }
   ],
   "source": [
    "120 * 120 * 60 * 60 / (0.3 * 0.3)"
   ]
  },
  {
   "cell_type": "code",
   "execution_count": 20,
   "metadata": {},
   "outputs": [
    {
     "data": {
      "text/plain": [
       "([2, 3, 6, 9, 12, 1, 4, 7, 10, 5, 8, 11],\n",
       " [2, 3, 6, 9, 12, 1, 4, 7, 10, 5, 8, 11])"
      ]
     },
     "execution_count": 20,
     "metadata": {},
     "output_type": "execute_result"
    }
   ],
   "source": [
    "def differencepairs(li):\n",
    "    c=li.copy()\n",
    "    newelements=[]    \n",
    "    for i in range(len(li)-1):\n",
    "        for j in range(i+1,len(li)):\n",
    "            d=abs(li[i]-li[j])\n",
    "            if d not in li and d not in newelements:\n",
    "                newelements.append(d)\n",
    "    li.extend(newelements)\n",
    "    return (c,li)\n",
    "li=[2,3,6,9,12, 1, 4, 7, 10, 5, 8, 11]\n",
    "differencepairs(li)\n",
    "            "
   ]
  },
  {
   "cell_type": "markdown",
   "metadata": {},
   "source": [
    "# Set -Data Structure \n",
    "* Reprasented by '{}'\n",
    "    * set reprasented unique data \n"
   ]
  },
  {
   "cell_type": "code",
   "execution_count": 22,
   "metadata": {},
   "outputs": [
    {
     "data": {
      "text/plain": [
       "{1, 2, 3, 4, 5, 6}"
      ]
     },
     "execution_count": 22,
     "metadata": {},
     "output_type": "execute_result"
    }
   ],
   "source": [
    "a={1,2,3,4,5,6,6}\n",
    "a"
   ]
  },
  {
   "cell_type": "code",
   "execution_count": 23,
   "metadata": {},
   "outputs": [
    {
     "data": {
      "text/plain": [
       "set"
      ]
     },
     "execution_count": 23,
     "metadata": {},
     "output_type": "execute_result"
    }
   ],
   "source": [
    "type(a)"
   ]
  },
  {
   "cell_type": "code",
   "execution_count": 26,
   "metadata": {},
   "outputs": [
    {
     "data": {
      "text/plain": [
       "{1, 2, 3, 4, 5, 6, 7}"
      ]
     },
     "execution_count": 26,
     "metadata": {},
     "output_type": "execute_result"
    }
   ],
   "source": [
    "a.add(7)#Adding a single element in a set\n",
    "a"
   ]
  },
  {
   "cell_type": "code",
   "execution_count": 27,
   "metadata": {},
   "outputs": [
    {
     "name": "stdout",
     "output_type": "stream",
     "text": [
      "1 2 3 4 5 6 7 "
     ]
    }
   ],
   "source": [
    "for i in a:\n",
    "    print(i,end=' ')#Accessing a elements \n",
    "    "
   ]
  },
  {
   "cell_type": "code",
   "execution_count": 28,
   "metadata": {},
   "outputs": [
    {
     "data": {
      "text/plain": [
       "{1, 2, 3, 4, 5, 6, 7, 8, 9}"
      ]
     },
     "execution_count": 28,
     "metadata": {},
     "output_type": "execute_result"
    }
   ],
   "source": [
    "#multiple elaments add\n",
    "b={7,8,9}\n",
    "a.update(b)\n",
    "a"
   ]
  },
  {
   "cell_type": "markdown",
   "metadata": {},
   "source": [
    "# Functional programming\n",
    "## List Comprehenstions"
   ]
  },
  {
   "cell_type": "code",
   "execution_count": 31,
   "metadata": {},
   "outputs": [
    {
     "data": {
      "text/plain": [
       "[1, 2, 3, 4, 5, 6, 7, 8, 9, 10]"
      ]
     },
     "execution_count": 31,
     "metadata": {},
     "output_type": "execute_result"
    }
   ],
   "source": [
    "# N natural numbers in a List\n",
    "n=10\n",
    "li=[]\n",
    "for i in range(1,n+1):\n",
    "    li.append(i)\n",
    "li"
   ]
  },
  {
   "cell_type": "code",
   "execution_count": 32,
   "metadata": {},
   "outputs": [
    {
     "data": {
      "text/plain": [
       "[1, 2, 3, 4, 5, 6, 7, 8, 9, 10]"
      ]
     },
     "execution_count": 32,
     "metadata": {},
     "output_type": "execute_result"
    }
   ],
   "source": [
    "li=[i for i in range(1,11)]\n",
    "li"
   ]
  },
  {
   "cell_type": "code",
   "execution_count": 34,
   "metadata": {},
   "outputs": [
    {
     "data": {
      "text/plain": [
       "[1, 8, 27, 64, 125, 216, 343, 512, 729, 1000]"
      ]
     },
     "execution_count": 34,
     "metadata": {},
     "output_type": "execute_result"
    }
   ],
   "source": [
    "#Appy List Comprahenstion to store the cubes on n natural numbers\n",
    "li=[i**3 for i in range(1,11)]\n",
    "li"
   ]
  },
  {
   "cell_type": "code",
   "execution_count": 43,
   "metadata": {},
   "outputs": [
    {
     "data": {
      "text/plain": [
       "[1, 2, 6, 24, 120, 720, 5040, 40320, 362880, 3628800]"
      ]
     },
     "execution_count": 43,
     "metadata": {},
     "output_type": "execute_result"
    }
   ],
   "source": [
    "#Function to calculate the factorial \n",
    "def factorial(n):\n",
    "    if n==0 or n==1:\n",
    "        return 1\n",
    "    else:\n",
    "        return n* factorial(n-1)#Recursion method\n",
    "#Appy List Comprashention to calculate factorial of n natural numbers\n",
    "n=10#-->1!,2!--->\n",
    "factorialList=[factorial(i) for i in range(1,n+1)]\n",
    "factorialList\n",
    "\n",
    "\n"
   ]
  },
  {
   "cell_type": "code",
   "execution_count": 48,
   "metadata": {},
   "outputs": [
    {
     "data": {
      "text/plain": [
       "[1, 3, 6, 10, 15]"
      ]
     },
     "execution_count": 48,
     "metadata": {},
     "output_type": "execute_result"
    }
   ],
   "source": [
    "#Store cumulative sum of numbers till n in a list \n",
    "#n=3,[1,3,6]\n",
    "#n=5,[1,3,6,10,15]\n",
    "# def cumulativeSum(n):\n",
    "#     s=0\n",
    "#     for i in range(1,n+1):\n",
    "#         s=s+1\n",
    "#     return s\n",
    "n=5\n",
    "cli=[sum(range(1,i+1)) for i in range(1,n+1)]\n",
    "cli\n",
    "        "
   ]
  },
  {
   "cell_type": "code",
   "execution_count": 55,
   "metadata": {},
   "outputs": [
    {
     "data": {
      "text/plain": [
       "[1972, 1976, 1980, 1984, 1988, 1992, 1996, 2000, 2004, 2008, 2012, 2016]"
      ]
     },
     "execution_count": 55,
     "metadata": {},
     "output_type": "execute_result"
    }
   ],
   "source": [
    "#Function to store only leap yeasrs in a given \n",
    "\n",
    "st=1970\n",
    "et=2019\n",
    "lYear=[ year for year in range(st,et+1) if (year%400 == 0 ) or (year %100!=0 and year % 4==0)]\n",
    "lYear\n",
    "        "
   ]
  },
  {
   "cell_type": "code",
   "execution_count": 61,
   "metadata": {},
   "outputs": [
    {
     "data": {
      "text/plain": [
       "[2, 2, 2, 1, 1, 1]"
      ]
     },
     "execution_count": 61,
     "metadata": {},
     "output_type": "execute_result"
    }
   ],
   "source": [
    "li=[1,2,3,2,1,4,5,4,5,4]\n",
    "u2=[]\n",
    "unique=[]\n",
    "unique=[li[i]  for i in li if range(0,len(li)-1) if sorted(li)[i] !=sorted(li)[i+1] ]\n",
    "#unique=[ for i in li if i not in u2 ]\n",
    "unique"
   ]
  },
  {
   "cell_type": "markdown",
   "metadata": {},
   "source": [
    "# Iterator \n",
    "* some thing a group or list or oblects repitative\n",
    "        * Iterable - Strings,Lists,Tuples,Sets,Dictionaries \n",
    "        * To convert itarble to itarator -->iter()\n",
    "        * For Loop: not break untill condition true\n",
    "        * Iterator:it can stop\n"
   ]
  },
  {
   "cell_type": "code",
   "execution_count": 72,
   "metadata": {},
   "outputs": [
    {
     "name": "stdout",
     "output_type": "stream",
     "text": [
      "1:\n",
      "P\n",
      "\n",
      "\n",
      "2:\n",
      "y\n"
     ]
    }
   ],
   "source": [
    "it=iter('Python')\n",
    "print('1:')\n",
    "print(next(it))\n",
    "print('\\n')\n",
    "print('2:')\n",
    "print(next(it))"
   ]
  },
  {
   "cell_type": "markdown",
   "metadata": {},
   "source": [
    "# Generators \n",
    "    * Generator is Function "
   ]
  },
  {
   "cell_type": "code",
   "execution_count": 90,
   "metadata": {},
   "outputs": [
    {
     "data": {
      "text/plain": [
       "2417851639229258349412352"
      ]
     },
     "execution_count": 90,
     "metadata": {},
     "output_type": "execute_result"
    }
   ],
   "source": [
    "\n",
    "def generator():\n",
    "    n=2\n",
    "    for i in range(1,5):\n",
    "        n**=3\n",
    "        yield n\n",
    "a=generator()\n",
    "next(a)\n",
    "next(a)\n",
    "next(a)\n",
    "next(a)\n",
    "\n",
    "\n",
    "    \n",
    "    \n"
   ]
  },
  {
   "cell_type": "code",
   "execution_count": 94,
   "metadata": {},
   "outputs": [
    {
     "name": "stdout",
     "output_type": "stream",
     "text": [
      "8\n",
      "134217728\n",
      "14134776518227074636666380005943348126619871175004951664972849610340958208\n",
      "22521666186739810716017129863546474247925813985186306383480395759255528226899398031271474259176472311138130302909797370563984143657840869015723623128208458564711932390036470899999940399003451938771468124775412134017692556582989981820657376622292117781429636251681663364133246565240603802421309871873386179061056683850002592550658912005406539073633368208169912295100765107813056035892005304712416817301893705332191267615274619407764899319819287315641053762034009508858938727147166108668063720886082155921552955435591503022900749768195878181491707144967461286550140023171580051111358071521188926359524314904062599527129957121490685127011258936786658012354838528\n",
      "1490749437483138602749298211171890771944932002222732590141543150107638430827697168860956299898208768103383042046125717680414504697162830849320642009933279918750145665098665006053232645457813304543557399402358472032673076270064074329561491188566191463794294838536284169187739762000994109181808567947703682261682667228562787084156635145887021676629723250075409894003982070022751911345085675862741997584195018068831851550656130586870150217387848281225134870058383913316670978064259909133330326265994405905843435830546918990810719009756056980229251142270914390981954951931287504270375643147681497200025450647062697740871740746391686103284614204877967678645586519738538636861361934498229220397924369801928214662429187086948360592388739423228612588402796532245819260742523155023617433434220689799427245248123190634942336603754173227848918146046320690524243866538622093549131543860879095813716209917240043402157927581271454973351431877111195879385579412993417719750515556196130302689769269190567711820432568461441359241308404588760237984795903225344533604967726740674655171622733155268888383263002432384502574997591904806578289223990704506164181085309265978555745876610739152678570559991187886501024035947796702993443852287062320889025151373423251893928776320224087367638741046758396192841622056371105981263624843120938652545543644912932526759336864384445509762181129326647725521839357377092265452803850743284779029278298230262998215245087407219580549234804178259859497235652448755475512948584811226401643081958726567882573892122439576413421126423998037772765543140999846234819103573016752950297198548392077716311297289215774708542098392649200265499270116999463782873719273910772505654973373788760533654273807558028466566549158289505265534411298993511552147330425518992066008892323932115915302539348086937817928672417724840009887428136665312838621553024877650037893758369405810843929015458495704550030852589954679373341357239909257197390593607717046848740575880191115988946491281484142816425062101679054767465816339575831764110585833844354223848264296002349025476018239952382363249262179296767290016829627150970367249205913580654074894097192362892034429911178328951289978012411703383017453830670800801795394607602869226986429655333037055794503755193096765486642492523804511560201770384033305951440413049432775168325167388420144463517608545713454184980541403054594553593362287397309547143717024878937468261208851019392211833596950236360038270076731193608443472839622948092255733897347665580320700233735522055243382542073122711144910910841235062161661491504598200834169547316391821747617504826709776870713722994577532669079174866282994354805863825486192625346461989958106784852171320531308966403761085522180416423490525729337602139979019355120558008241071137551751716112524070055546219996595490924597148571454974184747610785856972305686418261042931616969268628677189092481418833649552955349274270365850882960149351803335527702275175922004547631100952089987887882921942526827360709681055060984241726403026519020546777806521458172524088851415392868545931206912841800468040974089267343664871980579138681276388442034093843649582710165866941432408880874399639762203852267272233834451845961348106396936249409757188952384576235135419130560961209085518372216361004477391139805005003738230622517224862406158916397931160002818920593032371649619858288532443135998921064748893573187096345733665202551763971333113412468278124986303996359368855198870116888911808557061214644142235180075144106283894074942822759357747686493865101433486872133625974698469592734525442753310668186818755610395100138991865663122556062747034718617687548458455273858856891159799702661621193917470035081448592150597006590643696233629564681530464884671586970426242722862957682605454287774787268404726532518803379008332645897600177713678861390803680754984237724091396428683689558711715610807254468408816635111472201251314966425984473039556626360549049279193562243122989831709243502665652320167990288453965335833107946345285532669915149601538742161835077808943166348653795783909037253192424266463001953267558651695730038673942476900202894583201637019588324537576997529335061101072009537356806037563212757232555933152216199369025245451918224287666946524689952581373860656174861536526945531414707365643292410922733182506502875005463503646030237370827507569245681550292851389658549701499253024454631826189735339846743802046975521268727919773530375824412228280781333172505725372015577032090674513369548735055263010703285886604942614648362405656579291334240176093039077143340121793292583612937530912376512688774525835658250751373034029551298625296667609988716501913395638855246882122175829571569984700106207622274159589775992979063908531688080520633595625966086114418017828119086206785953133519985820247994180511135306535619808133648712732035054523110089414945100734250916928791490931316888995933528178256656118389327029501898962035543833866216352679237607148120204902927446785219602918863527104737711447934964516580987828972011079944023921434526590859885163359483276333297436680996572947064563685802959586671168699077976585824847811571197348898243905244098557665970403120686044871906804919479306949063229734555275720448812536132025039198822012636456025098086274933449545377540213781826813215141645239678674366372022155343098038022533574921184564747938166117358802916034289938475012596667399558848320448288586629629486361589328058566268879107002390595038363695990896091769385629735713361139827287539078913417717243268979130930607286150703034742408321813887954157917650527978368179665372673300978800299171456829281369965894523151286779923025647062388591354603396656245261590445018860159643114244525407261509176223237001979961790938568551564163239379557572561851774542272203399203212510931501345265581072340227000981763202915021353770601274246714522500452327606310435540714911619213514065460273115685560679649101819387662997288948281372288198335437468135802550485562913588357426577408\n"
     ]
    }
   ],
   "source": [
    "def gen():\n",
    "    n=2\n",
    "    while True:\n",
    "        n**=3\n",
    "        yield n\n",
    "a=gen()\n",
    "# next(a)\n",
    "# b=next(a)**2\n",
    "# b*=next(a)\n",
    "# b\n",
    "for i in range(5):\n",
    "    print(next(a))\n",
    "    next(a)"
   ]
  },
  {
   "cell_type": "code",
   "execution_count": null,
   "metadata": {},
   "outputs": [],
   "source": [
    "int(input())\n"
   ]
  }
 ],
 "metadata": {
  "kernelspec": {
   "display_name": "Python 3",
   "language": "python",
   "name": "python3"
  },
  "language_info": {
   "codemirror_mode": {
    "name": "ipython",
    "version": 3
   },
   "file_extension": ".py",
   "mimetype": "text/x-python",
   "name": "python",
   "nbconvert_exporter": "python",
   "pygments_lexer": "ipython3",
   "version": "3.7.3"
  }
 },
 "nbformat": 4,
 "nbformat_minor": 2
}
