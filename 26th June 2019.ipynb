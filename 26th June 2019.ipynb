{
 "cells": [
  {
   "cell_type": "code",
   "execution_count": 3,
   "metadata": {},
   "outputs": [
    {
     "data": {
      "text/plain": [
       "7"
      ]
     },
     "execution_count": 3,
     "metadata": {},
     "output_type": "execute_result"
    }
   ],
   "source": [
    "#Kth Largest Number in A list \n",
    "#Second Largest Number in a list \n",
    "#kth largest number in a list \n",
    "\n",
    "# Element with higest frequency\n",
    "# Second Higest Frequesncy \n",
    "#Kth Higest Frequency \n",
    "\n",
    "#=======================================\n",
    "#Second Largest Number in a list \n",
    "def secondLargest(li):\n",
    "    #Convert the list into a unique list \n",
    "    #O(n)\n",
    "    unique =[]\n",
    "    for n in li:\n",
    "        if n not in unique:\n",
    "            unique.append(n)\n",
    "    unique=sorted(unique,reverse=True)\n",
    "    return unique[1]\n",
    "secondLargest([1,2,3,4,5,6,7,8,7,4])\n",
    "#def fifth Largest(li)\n",
    "#def kLargest(li,k)\n",
    "#def kSmallest(li)\n"
   ]
  },
  {
   "cell_type": "code",
   "execution_count": 13,
   "metadata": {},
   "outputs": [
    {
     "data": {
      "text/plain": [
       "9"
      ]
     },
     "execution_count": 13,
     "metadata": {},
     "output_type": "execute_result"
    }
   ],
   "source": [
    "#def fifth Largest(li)\n",
    "def secondLargest(li):\n",
    "    #Convert the list into a unique list \n",
    "    #O(n)\n",
    "    unique =[]\n",
    "    for n in li:\n",
    "        if n not in unique:\n",
    "            unique.append(n)\n",
    "    unique=sorted(unique,reverse=True)\n",
    "    return unique[4]\n",
    "#secondLargest([1,2,3,4,5,6,7,8,7,4])\n",
    "def kSmallest(li,k):\n",
    "    #extract Unique elemr=ents in the list \n",
    "    unique =[]\n",
    "    for i in li:\n",
    "        if i not in unique:\n",
    "            unique.append(i)\n",
    "#Sort the Unique list in decending order \n",
    "    unique=sorted(unique)\n",
    "  #Check if length of unique list is grater then k equal\n",
    "    if len(unique)>=k:\n",
    "        return unique[k-1]\n",
    "    return -1\n",
    "kSmallest([3,3,9],2) #9"
   ]
  },
  {
   "cell_type": "code",
   "execution_count": 27,
   "metadata": {},
   "outputs": [
    {
     "data": {
      "text/plain": [
       "3"
      ]
     },
     "execution_count": 27,
     "metadata": {},
     "output_type": "execute_result"
    }
   ],
   "source": [
    "# Function to identify Element with higest frequency in a list \n",
    "    #Many elements have in the higest freqvency\n",
    "    #Test cases :higestFreqvency([1,2,3,9,8,7,3,4,2,1])->1\n",
    "def highestFrequencyElement(li):#Extracting u\n",
    "    unique={}\n",
    "    for n in li:\n",
    "        if n  in unique.keys():\n",
    "            unique[n] +=1\n",
    "        else:\n",
    "            unique[n] =1\n",
    "#Getting All Frequencies into a list \n",
    "    freq = unique.values()\n",
    "    maxfreq=max(freq)\n",
    "    maxfreqE=[]\n",
    "    #To get identify keys the smallest number with maximum freqvency \n",
    "    for item in unique.items():\n",
    "        if item[1] ==maxfreq:\n",
    "            maxfreqE.append(item[0])\n",
    "#Select the minimum from the keys the max freq\n",
    "            maxfreqE=sorted(maxfreqE)\n",
    "    #return min(maxfreqE)#minfreqE[k-1]\n",
    "    return max(maxfreqE)#minfreqE[k-1]\n",
    "highestFrequencyElement([1,2,3,9,8,7,3,4,2,1])\n",
    "            \n",
    "        \n",
    "        \n",
    "            \n",
    "            "
   ]
  },
  {
   "cell_type": "code",
   "execution_count": 26,
   "metadata": {},
   "outputs": [
    {
     "data": {
      "text/plain": [
       "1"
      ]
     },
     "execution_count": 26,
     "metadata": {},
     "output_type": "execute_result"
    }
   ],
   "source": [
    "# Function to identify Element with higest frequency in a list \n",
    "    #Many elements have in the higest freqvency\n",
    "    #Test cases :higestFreqvency([1,2,3,9,8,7,3,4,2,1])->1\n",
    "def highestFrequencyElement(li):#Extracting u\n",
    "    unique={}\n",
    "    for n in li:\n",
    "        if n  in unique.keys():\n",
    "            unique[n] +=1\n",
    "        else:\n",
    "            unique[n] =1\n",
    "#Unique={1:2,2:2,3:2,9:1,8:1,7:1,4:1}\n",
    "\n",
    "        maxfreq=max(unique.values())\n",
    "    #extracting all keys with max freq in a ist\n",
    "        maxfreqkeys =[]\n",
    "        for item in unique.items():\n",
    "            #item -->(key,value)\n",
    "            #complare item[1]\n",
    "            if item[1] == maxfreq:\n",
    "                maxfreqkeys.append(item[0])\n",
    "        return min(maxfreqkeys)\n",
    "highestFrequencyElement([1,2,3,9,8,7,3,4,2,1])\n",
    "            "
   ]
  },
  {
   "cell_type": "code",
   "execution_count": 25,
   "metadata": {},
   "outputs": [
    {
     "data": {
      "text/plain": [
       "[1, 1, 2, 2, 3, 3, 4, 7, 8, 9]"
      ]
     },
     "execution_count": 25,
     "metadata": {},
     "output_type": "execute_result"
    }
   ],
   "source": [
    "l=[1,2,3,9,8,7,3,4,2,1]\n",
    "l.sort()\n",
    "l"
   ]
  },
  {
   "cell_type": "code",
   "execution_count": null,
   "metadata": {},
   "outputs": [],
   "source": [
    "# Function to identify second highest frequency element\n",
    "#If there are many such elements ,return the \n",
    "#[9,8,7,6,5,2,3,4,9,6,7,7,7,6,7,6], k=4->2\n",
    "\n",
    "def highestFrequencyElement(li):#Extracting u\n",
    "    unique={}\n",
    "    for n in li:\n",
    "        if n  in unique.keys():\n",
    "            unique[n] +=1\n",
    "        else:\n",
    "            unique[n] =1\n",
    "#Unique={1:2,2:2,3:2,9:1,8:1,7:1,4:1}\n",
    "\n",
    "        maxfreq=max(unique.values())\n",
    "    #extracting all keys with max freq in a ist\n",
    "        maxfreqkeys =[]\n",
    "        for item in unique.items():\n",
    "            #item -->(key,value)\n",
    "            #complare item[1]\n",
    "            if item[1] == maxfreq:\n",
    "                maxfreqkeys.append(item[0])\n",
    "        return min(maxfreqkeys)\n",
    "highestFrequencyElement([1,2,3,9,8,7,3,4,2,1])"
   ]
  },
  {
   "cell_type": "code",
   "execution_count": null,
   "metadata": {},
   "outputs": [],
   "source": [
    "#kth element \n"
   ]
  }
 ],
 "metadata": {
  "kernelspec": {
   "display_name": "Python 3",
   "language": "python",
   "name": "python3"
  },
  "language_info": {
   "codemirror_mode": {
    "name": "ipython",
    "version": 3
   },
   "file_extension": ".py",
   "mimetype": "text/x-python",
   "name": "python",
   "nbconvert_exporter": "python",
   "pygments_lexer": "ipython3",
   "version": "3.7.3"
  }
 },
 "nbformat": 4,
 "nbformat_minor": 2
}
