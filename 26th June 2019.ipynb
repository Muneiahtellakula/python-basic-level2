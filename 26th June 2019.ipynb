{
 "cells": [
  {
   "cell_type": "code",
   "execution_count": 3,
   "metadata": {},
   "outputs": [
    {
     "data": {
      "text/plain": [
       "7"
      ]
     },
     "execution_count": 3,
     "metadata": {},
     "output_type": "execute_result"
    }
   ],
   "source": [
    "#Kth Largest Number in A list \n",
    "#Second Largest Number in a list \n",
    "#kth largest number in a list \n",
    "\n",
    "# Element with higest frequency\n",
    "# Second Higest Frequesncy \n",
    "#Kth Higest Frequency \n",
    "\n",
    "#=======================================\n",
    "#Second Largest Number in a list \n",
    "def secondLargest(li):\n",
    "    #Convert the list into a unique list \n",
    "    #O(n)\n",
    "    unique =[]\n",
    "    for n in li:\n",
    "        if n not in unique:\n",
    "            unique.append(n)\n",
    "    unique=sorted(unique,reverse=True)\n",
    "    return unique[1]\n",
    "secondLargest([1,2,3,4,5,6,7,8,7,4])\n",
    "#def fifth Largest(li)\n",
    "#def kLargest(li,k)\n",
    "#def kSmallest(li)\n"
   ]
  },
  {
   "cell_type": "code",
   "execution_count": 13,
   "metadata": {},
   "outputs": [
    {
     "data": {
      "text/plain": [
       "9"
      ]
     },
     "execution_count": 13,
     "metadata": {},
     "output_type": "execute_result"
    }
   ],
   "source": [
    "#def fifth Largest(li)\n",
    "def secondLargest(li):\n",
    "    #Convert the list into a unique list \n",
    "    #O(n)\n",
    "    unique =[]\n",
    "    for n in li:\n",
    "        if n not in unique:\n",
    "            unique.append(n)\n",
    "    unique=sorted(unique,reverse=True)\n",
    "    return unique[4]\n",
    "#secondLargest([1,2,3,4,5,6,7,8,7,4])\n",
    "def kSmallest(li,k):\n",
    "    #extract Unique elemr=ents in the list \n",
    "    unique =[]\n",
    "    for i in li:\n",
    "        if i not in unique:\n",
    "            unique.append(i)\n",
    "#Sort the Unique list in decending order \n",
    "    unique=sorted(unique)\n",
    "  #Check if length of unique list is grater then k equal\n",
    "    if len(unique)>=k:\n",
    "        return unique[k-1]\n",
    "    return -1\n",
    "kSmallest([3,3,9],2) #9"
   ]
  },
  {
   "cell_type": "code",
   "execution_count": 27,
   "metadata": {},
   "outputs": [
    {
     "data": {
      "text/plain": [
       "3"
      ]
     },
     "execution_count": 27,
     "metadata": {},
     "output_type": "execute_result"
    }
   ],
   "source": [
    "# Function to identify Element with higest frequency in a list \n",
    "    #Many elements have in the higest freqvency\n",
    "    #Test cases :higestFreqvency([1,2,3,9,8,7,3,4,2,1])->1\n",
    "def highestFrequencyElement(li):#Extracting u\n",
    "    unique={}\n",
    "    for n in li:\n",
    "        if n  in unique.keys():\n",
    "            unique[n] +=1\n",
    "        else:\n",
    "            unique[n] =1\n",
    "#Getting All Frequencies into a list \n",
    "    freq = unique.values()\n",
    "    maxfreq=max(freq)\n",
    "    maxfreqE=[]\n",
    "    #To get identify keys the smallest number with maximum freqvency \n",
    "    for item in unique.items():\n",
    "        if item[1] ==maxfreq:\n",
    "            maxfreqE.append(item[0])\n",
    "#Select the minimum from the keys the max freq\n",
    "            maxfreqE=sorted(maxfreqE)\n",
    "    #return min(maxfreqE)#minfreqE[k-1]\n",
    "    return max(maxfreqE)#minfreqE[k-1]\n",
    "highestFrequencyElement([1,2,3,9,8,7,3,4,2,1])\n",
    "            \n",
    "        \n",
    "        \n",
    "            \n",
    "            "
   ]
  },
  {
   "cell_type": "code",
   "execution_count": 26,
   "metadata": {},
   "outputs": [
    {
     "data": {
      "text/plain": [
       "1"
      ]
     },
     "execution_count": 26,
     "metadata": {},
     "output_type": "execute_result"
    }
   ],
   "source": [
    "# Function to identify Element with higest frequency in a list \n",
    "    #Many elements have in the higest freqvency\n",
    "    #Test cases :higestFreqvency([1,2,3,9,8,7,3,4,2,1])->1\n",
    "def highestFrequencyElement(li):#Extracting u\n",
    "    unique={}\n",
    "    for n in li:\n",
    "        if n  in unique.keys():\n",
    "            unique[n] +=1\n",
    "        else:\n",
    "            unique[n] =1\n",
    "#Unique={1:2,2:2,3:2,9:1,8:1,7:1,4:1}\n",
    "\n",
    "        maxfreq=max(unique.values())\n",
    "    #extracting all keys with max freq in a ist\n",
    "        maxfreqkeys =[]\n",
    "        for item in unique.items():\n",
    "            #item -->(key,value)\n",
    "            #complare item[1]\n",
    "            if item[1] == maxfreq:\n",
    "                maxfreqkeys.append(item[0])\n",
    "        return min(maxfreqkeys)\n",
    "highestFrequencyElement([1,2,3,9,8,7,3,4,2,1])\n",
    "            "
   ]
  },
  {
   "cell_type": "code",
   "execution_count": 25,
   "metadata": {},
   "outputs": [
    {
     "data": {
      "text/plain": [
       "[1, 1, 2, 2, 3, 3, 4, 7, 8, 9]"
      ]
     },
     "execution_count": 25,
     "metadata": {},
     "output_type": "execute_result"
    }
   ],
   "source": [
    "l=[1,2,3,9,8,7,3,4,2,1]\n",
    "l.sort()\n",
    "l"
   ]
  },
  {
   "cell_type": "code",
   "execution_count": null,
   "metadata": {},
   "outputs": [],
   "source": [
    "# Function to identify second highest frequency element\n",
    "#If there are many such elements ,return the \n",
    "#[9,8,7,6,5,2,3,4,9,6,7,7,7,6,7,6], k=4->2\n",
    "\n",
    "def highestFrequencyElement(li):#Extracting u\n",
    "    unique={}\n",
    "    for n in li:\n",
    "        if n  in unique.keys():\n",
    "            unique[n] +=1\n",
    "        else:\n",
    "            unique[n] =1\n",
    "#Unique={1:2,2:2,3:2,9:1,8:1,7:1,4:1}\n",
    "\n",
    "        maxfreq=max(unique.values())\n",
    "    #extracting all keys with max freq in a ist\n",
    "        maxfreqkeys =[]\n",
    "        for item in unique.items():\n",
    "            #item -->(key,value)\n",
    "            #complare item[1]\n",
    "            if item[1] == maxfreq:\n",
    "                maxfreqkeys.append(item[0])\n",
    "        return min(maxfreqkeys)\n",
    "highestFrequencyElement([1,2,3,9,8,7,3,4,2,1])"
   ]
  },
  {
   "cell_type": "code",
   "execution_count": 29,
   "metadata": {},
   "outputs": [
    {
     "data": {
      "text/plain": [
       "{9: 2, 8: 1, 7: 5, 6: 4, 5: 1, 2: 1, 3: 1, 4: 1}"
      ]
     },
     "execution_count": 29,
     "metadata": {},
     "output_type": "execute_result"
    }
   ],
   "source": [
    "#kth element \n",
    "def kHigestFreq(s,k):\n",
    "    unique ={}\n",
    "    for c in s:\n",
    "        if c not in unique:\n",
    "            unique[c] =1\n",
    "        else:\n",
    "            unique[c] +=1\n",
    "        #unique ={9:2,8:1,7:5,6:4,5:1,2:1}\n",
    "    #return unique\n",
    "        \n",
    "kHigestFreq([9,8,7,6,5,2,3,4,9,6,7,7,7,6,7,6],3)           "
   ]
  },
  {
   "cell_type": "code",
   "execution_count": 9,
   "metadata": {},
   "outputs": [
    {
     "ename": "AttributeError",
     "evalue": "'list' object has no attribute 'values'",
     "output_type": "error",
     "traceback": [
      "\u001b[1;31m---------------------------------------------------------------------------\u001b[0m",
      "\u001b[1;31mAttributeError\u001b[0m                            Traceback (most recent call last)",
      "\u001b[1;32m<ipython-input-9-0bd19570413d>\u001b[0m in \u001b[0;36m<module>\u001b[1;34m\u001b[0m\n\u001b[0;32m     27\u001b[0m         \u001b[0ms\u001b[0m\u001b[1;33m=\u001b[0m\u001b[0mf\u001b[0m\u001b[1;33m.\u001b[0m\u001b[0mreadline\u001b[0m\u001b[1;33m(\u001b[0m\u001b[1;33m)\u001b[0m\u001b[1;33m\u001b[0m\u001b[1;33m\u001b[0m\u001b[0m\n\u001b[0;32m     28\u001b[0m         \u001b[0mk\u001b[0m\u001b[1;33m=\u001b[0m\u001b[0mint\u001b[0m\u001b[1;33m(\u001b[0m\u001b[0mf\u001b[0m\u001b[1;33m.\u001b[0m\u001b[0mreadline\u001b[0m\u001b[1;33m(\u001b[0m\u001b[1;33m)\u001b[0m\u001b[1;33m)\u001b[0m\u001b[1;33m\u001b[0m\u001b[1;33m\u001b[0m\u001b[0m\n\u001b[1;32m---> 29\u001b[1;33m         \u001b[0mprint\u001b[0m\u001b[1;33m(\u001b[0m\u001b[0mkHigestFreq\u001b[0m\u001b[1;33m(\u001b[0m\u001b[0ms\u001b[0m\u001b[1;33m,\u001b[0m\u001b[0mk\u001b[0m\u001b[1;33m)\u001b[0m\u001b[1;33m)\u001b[0m\u001b[1;33m\u001b[0m\u001b[1;33m\u001b[0m\u001b[0m\n\u001b[0m\u001b[0;32m     30\u001b[0m \u001b[1;33m\u001b[0m\u001b[0m\n\u001b[0;32m     31\u001b[0m \u001b[0mkHigestFreq\u001b[0m\u001b[1;33m(\u001b[0m\u001b[1;33m[\u001b[0m\u001b[1;36m9\u001b[0m\u001b[1;33m,\u001b[0m\u001b[1;36m8\u001b[0m\u001b[1;33m,\u001b[0m\u001b[1;36m7\u001b[0m\u001b[1;33m,\u001b[0m\u001b[1;36m6\u001b[0m\u001b[1;33m,\u001b[0m\u001b[1;36m5\u001b[0m\u001b[1;33m,\u001b[0m\u001b[1;36m2\u001b[0m\u001b[1;33m,\u001b[0m\u001b[1;36m3\u001b[0m\u001b[1;33m,\u001b[0m\u001b[1;36m4\u001b[0m\u001b[1;33m,\u001b[0m\u001b[1;36m9\u001b[0m\u001b[1;33m,\u001b[0m\u001b[1;36m6\u001b[0m\u001b[1;33m,\u001b[0m\u001b[1;36m7\u001b[0m\u001b[1;33m,\u001b[0m\u001b[1;36m7\u001b[0m\u001b[1;33m,\u001b[0m\u001b[1;36m7\u001b[0m\u001b[1;33m,\u001b[0m\u001b[1;36m6\u001b[0m\u001b[1;33m,\u001b[0m\u001b[1;36m7\u001b[0m\u001b[1;33m,\u001b[0m\u001b[1;36m6\u001b[0m\u001b[1;33m]\u001b[0m\u001b[1;33m,\u001b[0m\u001b[1;36m3\u001b[0m\u001b[1;33m)\u001b[0m\u001b[1;33m\u001b[0m\u001b[1;33m\u001b[0m\u001b[0m\n",
      "\u001b[1;32m<ipython-input-9-0bd19570413d>\u001b[0m in \u001b[0;36mkHigestFreq\u001b[1;34m(s, k)\u001b[0m\n\u001b[0;32m     11\u001b[0m     \u001b[1;31m#finally contain uniqueFreqList=[2,1,5,4]\u001b[0m\u001b[1;33m\u001b[0m\u001b[1;33m\u001b[0m\u001b[1;33m\u001b[0m\u001b[0m\n\u001b[0;32m     12\u001b[0m     \u001b[0muniqueFreqList\u001b[0m\u001b[1;33m=\u001b[0m\u001b[1;33m[\u001b[0m\u001b[1;33m]\u001b[0m\u001b[1;33m\u001b[0m\u001b[1;33m\u001b[0m\u001b[0m\n\u001b[1;32m---> 13\u001b[1;33m     \u001b[1;32mfor\u001b[0m \u001b[0mvalue\u001b[0m \u001b[1;32min\u001b[0m \u001b[0muniqueFreqList\u001b[0m\u001b[1;33m.\u001b[0m\u001b[0mvalues\u001b[0m\u001b[1;33m(\u001b[0m\u001b[1;33m)\u001b[0m\u001b[1;33m:\u001b[0m\u001b[1;33m\u001b[0m\u001b[1;33m\u001b[0m\u001b[0m\n\u001b[0m\u001b[0;32m     14\u001b[0m         \u001b[1;32mif\u001b[0m \u001b[0mvalue\u001b[0m \u001b[1;32mnot\u001b[0m \u001b[1;32min\u001b[0m \u001b[0muniqueFreqList\u001b[0m\u001b[1;33m:\u001b[0m\u001b[1;33m\u001b[0m\u001b[1;33m\u001b[0m\u001b[0m\n\u001b[0;32m     15\u001b[0m             \u001b[0muniqueFreqList\u001b[0m\u001b[1;33m.\u001b[0m\u001b[0mappend\u001b[0m\u001b[1;33m(\u001b[0m\u001b[0mvalue\u001b[0m\u001b[1;33m)\u001b[0m\u001b[1;33m\u001b[0m\u001b[1;33m\u001b[0m\u001b[0m\n",
      "\u001b[1;31mAttributeError\u001b[0m: 'list' object has no attribute 'values'"
     ]
    }
   ],
   "source": [
    "#kth element \n",
    "def kHigestFreq(s,k):\n",
    "    unique ={}\n",
    "    for c in s:\n",
    "        if c not in unique:\n",
    "            unique[c] =1\n",
    "        else:\n",
    "            unique[c] +=1\n",
    "        #unique ={9:2,8:1,7:5,6:4,5:1,2:1}\n",
    "    #Extract all unique frequencies in a list \n",
    "    #finally contain uniqueFreqList=[2,1,5,4]\n",
    "    uniqueFreqList=[]\n",
    "    for value in uniqueFreqList.values():\n",
    "        if value not in uniqueFreqList:\n",
    "            uniqueFreqList.append(value)\n",
    "  #  return uniqueFreqList\n",
    "    uniqueFreqList=sorted(uniqueFreqList,reverse=True)\n",
    "    kfreq=uniqueFreqList[k-1]\n",
    "    kfreqchar=[]\n",
    "    for key in unique.keys():\n",
    "         if key[1]==kfreq:\n",
    "           kfreqchar.append(key[0])\n",
    "    return min(kfreqchar)\n",
    "with open('DataFolder/k-largest.txt','r') as f:\n",
    "    t=int(f.readline())\n",
    "    for i in range(t):\n",
    "        s=f.readline()\n",
    "        k=int(f.readline())\n",
    "        print(kHigestFreq(s,k)) \n",
    "    \n",
    "kHigestFreq([9,8,7,6,5,2,3,4,9,6,7,7,7,6,7,6],3)           "
   ]
  },
  {
   "cell_type": "code",
   "execution_count": 1,
   "metadata": {},
   "outputs": [
    {
     "name": "stdout",
     "output_type": "stream",
     "text": [
      "{9: 2, 8: 1, 7: 6, 6: 3, 5: 1, 2: 1, 3: 1, 4: 1}\n",
      "[6, 3, 2, 1]\n",
      "[8, 5, 2, 3, 4]\n"
     ]
    },
    {
     "data": {
      "text/plain": [
       "2"
      ]
     },
     "execution_count": 1,
     "metadata": {},
     "output_type": "execute_result"
    }
   ],
   "source": [
    "\n",
    "def khighestElement(li,t):\n",
    "   unique={}\n",
    "   for n in li:\n",
    "       if n in unique:\n",
    "           unique[n]+=1\n",
    "       else:\n",
    "           unique[n]=1\n",
    "   #to get the max value\n",
    "   print(unique)\n",
    "   maxfreq=list(set(unique.values()))\n",
    "   a=sorted(maxfreq,reverse=True)\n",
    "   print(a)\n",
    "   b=a[t-1]\n",
    "   c=[]\n",
    "   for item in unique.items():\n",
    "       \n",
    "       #item--(key,value)\n",
    "       if item[1]==b:\n",
    "           c.append(item[0])\n",
    "   print(c)\n",
    "   return min(c)\n",
    "khighestElement([9,8,7,6,5,2,3,4,9,6,7,7,7,6,7,7],4)"
   ]
  },
  {
   "cell_type": "code",
   "execution_count": 2,
   "metadata": {},
   "outputs": [
    {
     "name": "stdout",
     "output_type": "stream",
     "text": [
      "s\n",
      "g\n",
      "h\n",
      "e\n",
      "w\n",
      "r\n",
      "n\n",
      "k\n",
      "-1\n",
      "-1\n"
     ]
    }
   ],
   "source": [
    "\n",
    "def khighestfrequency(s,k):\n",
    "   #unique characters with freq in a dictionary\n",
    "   unique={}\n",
    "   for i in s:\n",
    "       if i not in unique:\n",
    "           unique[i]=1\n",
    "       else:\n",
    "           unique[i]+=1  \n",
    "   #{9: 2, 7: 6, 6: 4, 5: 1, 2: 1, 3: 1, 4: 1}    \n",
    "   #Extract all unique frequencies in a list\n",
    "   l=[]\n",
    "   for value in unique.values():\n",
    "       if value not in l:\n",
    "           l.append(value)\n",
    "       \n",
    "   l=sorted(l,reverse=True)\n",
    "   if len(l)>k:\n",
    "       kfreq=l[k-1]\n",
    "   else:\n",
    "       return -1\n",
    "   kfreqchar=[]\n",
    "   for key in unique.items():\n",
    "       if key[1]==kfreq:\n",
    "           kfreqchar.append(key[0])\n",
    "   return min(kfreqchar)\n",
    "with open('DataFolder/k-largest.txt','r') as f:\n",
    "   t=int(f.readline())\n",
    "   for i in range(t):\n",
    "       s=f.readline()\n",
    "       k=int(f.readline())\n",
    "       print(khighestfrequency(s,k))  "
   ]
  },
  {
   "cell_type": "code",
   "execution_count": 6,
   "metadata": {},
   "outputs": [
    {
     "data": {
      "text/plain": [
       "320"
      ]
     },
     "execution_count": 6,
     "metadata": {},
     "output_type": "execute_result"
    }
   ],
   "source": [
    "170+150\n"
   ]
  },
  {
   "cell_type": "code",
   "execution_count": null,
   "metadata": {},
   "outputs": [],
   "source": []
  }
 ],
 "metadata": {
  "kernelspec": {
   "display_name": "Python 3",
   "language": "python",
   "name": "python3"
  },
  "language_info": {
   "codemirror_mode": {
    "name": "ipython",
    "version": 3
   },
   "file_extension": ".py",
   "mimetype": "text/x-python",
   "name": "python",
   "nbconvert_exporter": "python",
   "pygments_lexer": "ipython3",
   "version": "3.7.3"
  }
 },
 "nbformat": 4,
 "nbformat_minor": 2
}
