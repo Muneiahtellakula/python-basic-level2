{
 "cells": [
  {
   "cell_type": "code",
   "execution_count": 13,
   "metadata": {},
   "outputs": [
    {
     "name": "stdout",
     "output_type": "stream",
     "text": [
      "name1 added to contacts\n"
     ]
    }
   ],
   "source": [
    "#Function to add contacts to contacts text file\n",
    "#import from packages import validator\n",
    "\n",
    "def addContact(name,phone,email): #store data as name,phone and email in the contact file\n",
    "     \n",
    "    filename='packages/contacts.txt'\n",
    "    with open(filename,'a') as f:\n",
    "        line = name +','+ str(phone) +','+ email + '\\n'\n",
    "        f.write(line)\n",
    "    print(name,'added to contacts')\n",
    "    return\n",
    "        \n",
    "addContact(\"name1\",9849161938,\"name1_23@gmail.com\")     \n",
    "        \n",
    "    \n",
    "   "
   ]
  },
  {
   "cell_type": "code",
   "execution_count": null,
   "metadata": {},
   "outputs": [],
   "source": []
  },
  {
   "cell_type": "code",
   "execution_count": 29,
   "metadata": {},
   "outputs": [
    {
     "ename": "SyntaxError",
     "evalue": "invalid syntax (<ipython-input-29-4f9dcb3a5705>, line 2)",
     "output_type": "error",
     "traceback": [
      "\u001b[1;36m  File \u001b[1;32m\"<ipython-input-29-4f9dcb3a5705>\"\u001b[1;36m, line \u001b[1;32m2\u001b[0m\n\u001b[1;33m    from packages import validator phoneNumValidate\u001b[0m\n\u001b[1;37m                                                  ^\u001b[0m\n\u001b[1;31mSyntaxError\u001b[0m\u001b[1;31m:\u001b[0m invalid syntax\n"
     ]
    }
   ],
   "source": [
    "#Validation\n",
    "from packages import validator phoneNumValidate as pnv,emailValidate as ev\n",
    "\n",
    "import re\n",
    "\n",
    "def addContact(name,phone,email): #store data as name,phone and email in the contact file\n",
    "     \n",
    "    filename='packages/contacts.txt'\n",
    "    if not checkContactsExists(name):\n",
    "        if pnv(phone) and ev(email):\n",
    "            with open(filename,'a') as f:\n",
    "                line = name +','+ str(phone) +','+ email + '\\n'\n",
    "                f.write(line)\n",
    "            print(name,'added to contacts')\n",
    "        else:\n",
    "            print(phone,email,\" name or email are exists\")\n",
    "    else:\n",
    "        print(name,\"Already exists\")\n",
    "    return\n",
    "    \n",
    "        \n",
    "addContact(\"name1\",9849161938,\"name1_23@gmail.com\")     \n",
    " ## Funtion to check if contact already exists\n",
    "def checkContactsExists(name):\n",
    "    filename = 'packages/contacts.txt'\n",
    "    with open(filename,'r') as f:\n",
    "        filedata=f.read()#enire file get string\n",
    "           \n",
    "    # pattern='name'\n",
    "    return  re.search(name,filedata)\n",
    "\n",
    "   "
   ]
  },
  {
   "cell_type": "code",
   "execution_count": 35,
   "metadata": {},
   "outputs": [
    {
     "data": {
      "text/plain": [
       "'name19849161938name1_23@gmail.com\\n'"
      ]
     },
     "execution_count": 35,
     "metadata": {},
     "output_type": "execute_result"
    }
   ],
   "source": [
    "filename ='packages/contacts.txt'\n",
    "def csvToList(filename):\n",
    "    li=[]\n",
    "    with open(filename,'r') as f:\n",
    "        for line in f:\n",
    "            li.append(line.split(','))\n",
    "    return li\n",
    "#csvToList(filename)\n",
    "def listToFile(li):\n",
    "    s=''\n",
    "    for i in li:\n",
    "        s += s.join(i)\n",
    "    return s\n",
    "li=csvToList(filename)\n",
    "listToFile(li)\n",
    "        "
   ]
  },
  {
   "cell_type": "code",
   "execution_count": null,
   "metadata": {},
   "outputs": [],
   "source": []
  }
 ],
 "metadata": {
  "kernelspec": {
   "display_name": "Python 3",
   "language": "python",
   "name": "python3"
  },
  "language_info": {
   "codemirror_mode": {
    "name": "ipython",
    "version": 3
   },
   "file_extension": ".py",
   "mimetype": "text/x-python",
   "name": "python",
   "nbconvert_exporter": "python",
   "pygments_lexer": "ipython3",
   "version": "3.7.3"
  }
 },
 "nbformat": 4,
 "nbformat_minor": 2
}
