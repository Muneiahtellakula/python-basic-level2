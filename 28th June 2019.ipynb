{
 "cells": [
  {
   "cell_type": "markdown",
   "metadata": {},
   "source": [
    "# Day Objectives\n",
    "* Maps\n",
    "* Lambda\n",
    "* Filter \n",
    "* Use cases -File/Dat Data Encryption"
   ]
  },
  {
   "cell_type": "markdown",
   "metadata": {},
   "source": [
    "## Maps \n",
    "* Mapping -Entity with a function \n",
    "\n",
    "map(funtion ,Iterable)"
   ]
  },
  {
   "cell_type": "code",
   "execution_count": 4,
   "metadata": {},
   "outputs": [
    {
     "data": {
      "text/plain": [
       "8"
      ]
     },
     "execution_count": 4,
     "metadata": {},
     "output_type": "execute_result"
    }
   ],
   "source": [
    "def powerN(a,n):\n",
    "    #return a**n\n",
    "    r=1\n",
    "    for i in range(0,n):\n",
    "        r *=a\n",
    "    return r\n",
    "powerN(2,10)\n",
    "def recursivePowerN(a,n):\n",
    "    if n ==0:\n",
    "        return 1\n",
    "    else:\n",
    "        return a* recursivePowerN(a,n-1)\n",
    "recursivePowerN(2,3)\n",
    "    \n",
    "\n"
   ]
  },
  {
   "cell_type": "code",
   "execution_count": 14,
   "metadata": {},
   "outputs": [
    {
     "data": {
      "text/plain": [
       "[1.0, 2.0, 3.0, 4.0, 5.0, 6.0]"
      ]
     },
     "execution_count": 14,
     "metadata": {},
     "output_type": "execute_result"
    }
   ],
   "source": [
    "# \n",
    "def cube(n):\n",
    "    return n**3\n",
    "li=['1','2','3','4','5','6']\n",
    "li2=list(map(int,li))\n",
    "list(map(float,li2))"
   ]
  },
  {
   "cell_type": "markdown",
   "metadata": {},
   "source": [
    "# Filter\n",
    "Used to check boolean values\n"
   ]
  },
  {
   "cell_type": "code",
   "execution_count": 25,
   "metadata": {},
   "outputs": [
    {
     "data": {
      "text/plain": [
       "[1, 2, 3, 'a', 'b', 'c', 3]"
      ]
     },
     "execution_count": 25,
     "metadata": {},
     "output_type": "execute_result"
    }
   ],
   "source": [
    "li=[1,2,3,'a','b','c',3]\n",
    "def isDigit(c):\n",
    "    c=str(c)\n",
    "    if c.isalpha():\n",
    "        return -1\n",
    "    return 1\n",
    "isDigit('a')\n",
    "list(filter(isDigit,li))\n"
   ]
  },
  {
   "cell_type": "markdown",
   "metadata": {},
   "source": [
    "####  Identify all Primes in a range\n",
    "\n"
   ]
  },
  {
   "cell_type": "code",
   "execution_count": 33,
   "metadata": {},
   "outputs": [
    {
     "data": {
      "text/plain": [
       "[2, 3, 5, 7, 11, 13, 17, 19]"
      ]
     },
     "execution_count": 33,
     "metadata": {},
     "output_type": "execute_result"
    }
   ],
   "source": [
    "#Filter  all Primes in a range\n",
    "def isPrime(n):\n",
    "    c=0\n",
    "    for i in range(1,n+1):\n",
    "        if n%i==0:\n",
    "            c+=1\n",
    "    if c==2:\n",
    "        return True\n",
    "    else:\n",
    "        return False\n",
    "list(filter(isPrime,[i for i in range(1,20)]))\n",
    "    "
   ]
  },
  {
   "cell_type": "code",
   "execution_count": 39,
   "metadata": {},
   "outputs": [
    {
     "name": "stdout",
     "output_type": "stream",
     "text": [
      "[503, 509, 521, 523, 541, 547, 557, 563, 569, 571, 577, 587, 593, 599]\n",
      "[503, 509, 521, 523, 541, 547, 557, 563, 569, 571, 577, 587, 593, 599]\n"
     ]
    }
   ],
   "source": [
    "def checkPrime(n):\n",
    "    for i in range(2,n//2 + 1):\n",
    "        if n%i==0:\n",
    "            return False\n",
    "    return True\n",
    "\n",
    "lb,ub=500,600    \n",
    "primeList=list(filter(checkPrime,range(lb,ub)))\n",
    "primeList2=[i for i in range(lb,ub+1) if checkPrime(i) ]\n",
    "#Map fails becz map not used for conditional check \n",
    "print(primeList)\n",
    "print(primeList2)"
   ]
  },
  {
   "cell_type": "code",
   "execution_count": null,
   "metadata": {},
   "outputs": [],
   "source": [
    "li=['1','2','3','4','5']\n",
    "l2=list(map)"
   ]
  },
  {
   "cell_type": "markdown",
   "metadata": {},
   "source": [
    "## Lamada\n",
    " * Lambda is called a Anonymous functions which are \n",
    "   * Can be embedded into List Comprehension ,Map,filter"
   ]
  },
  {
   "cell_type": "code",
   "execution_count": 42,
   "metadata": {},
   "outputs": [
    {
     "name": "stdout",
     "output_type": "stream",
     "text": [
      "['False', 'None', 'True', 'and', 'as', 'assert', 'async', 'await', 'break', 'class', 'continue', 'def', 'del', 'elif', 'else', 'except', 'finally', 'for', 'from', 'global', 'if', 'import', 'in', 'is', 'lambda', 'nonlocal', 'not', 'or', 'pass', 'raise', 'return', 'try', 'while', 'with', 'yield']\n"
     ]
    }
   ],
   "source": [
    "import keyword\n",
    "print(keyword.kwlist)"
   ]
  },
  {
   "cell_type": "code",
   "execution_count": 59,
   "metadata": {},
   "outputs": [
    {
     "data": {
      "text/plain": [
       "[2, 4, 6]"
      ]
     },
     "execution_count": 59,
     "metadata": {},
     "output_type": "execute_result"
    }
   ],
   "source": [
    "a=lambda x: x ** 3\n",
    "\n",
    "list(map(lambda x:x**3,[1,2,3,4,5,6,]))\n",
    "list(filter(lambda x: (x % 2==0),[1,2,3,4,5,6]))"
   ]
  },
  {
   "cell_type": "code",
   "execution_count": 49,
   "metadata": {},
   "outputs": [
    {
     "name": "stdout",
     "output_type": "stream",
     "text": [
      "2\n",
      "4\n",
      "6\n",
      "8\n",
      "10\n"
     ]
    }
   ],
   "source": [
    "a = lambda x: x*2\n",
    "for i in range(1,6):\n",
    "    print(a(i))"
   ]
  },
  {
   "cell_type": "code",
   "execution_count": 67,
   "metadata": {},
   "outputs": [
    {
     "data": {
      "text/plain": [
       "[2.5, 6.5]"
      ]
     },
     "execution_count": 67,
     "metadata": {},
     "output_type": "execute_result"
    }
   ],
   "source": [
    "from random import randint\n",
    "internalmarks1=[randint(0,25) for i in range(10)]\n",
    "internalmarks2=[randint(0,25) for i in range(10)]\n",
    "avginternalmarks1=list(map(lambda x,y: (x+y)/2 ,internalmarks1,internalmarks2))\n",
    "avginternalmarks1#printing the marks\n",
    "faildStudents=list(filter(lambda x: x<10,avginternalmarks1))\n",
    "faildStudents#filtering the belo 10 marks"
   ]
  },
  {
   "cell_type": "markdown",
   "metadata": {},
   "source": [
    "### Applying  Functional programming to the marks Analysis  Application\n"
   ]
  },
  {
   "cell_type": "code",
   "execution_count": 71,
   "metadata": {},
   "outputs": [],
   "source": [
    "# Generarate Marks data\n",
    "from random import randint\n",
    "\n",
    "def genarateMarks(n,lb,ub):\n",
    "    filename='Datafolder/marks.txt'\n",
    "    with open(filename,'w') as f:\n",
    "        #f.write()\n",
    "        for i in range(n):\n",
    "            marks=randint(lb,ub)\n",
    "            f.write(str(marks)+'\\n')\n",
    "            \n",
    "genarateMarks(300,0,100)     \n",
    "        "
   ]
  },
  {
   "cell_type": "code",
   "execution_count": null,
   "metadata": {},
   "outputs": [],
   "source": [
    "#Marks Ananlyasis\n",
    "#Class average % of passed ,Failed and Distion ,Frequency of higest and Lowest \n",
    "def classAverage(filepath):\n",
    "    with open(filepath,'r') as f:\n",
    "        filedata=f.read().split()\n",
    "       \n",
    "        marklist=list(map(int,marklist))\n",
    "        sum(marklist)//len(marklist)\n",
    "        \n",
    "        "
   ]
  },
  {
   "cell_type": "code",
   "execution_count": null,
   "metadata": {},
   "outputs": [],
   "source": [
    "def readMarksList(fipath):\n",
    "    with open(fipath,'r') as f:\n",
    "        filedata=f.read().split()\n",
    "    return list(map(int,filedata))\n",
    "def classAveratge"
   ]
  },
  {
   "cell_type": "code",
   "execution_count": 76,
   "metadata": {},
   "outputs": [
    {
     "data": {
      "text/plain": [
       "6"
      ]
     },
     "execution_count": 76,
     "metadata": {},
     "output_type": "execute_result"
    }
   ],
   "source": [
    "\n",
    "def readmarkslist(filepath):\n",
    "   with open(filepath,'r') as f:\n",
    "       filedata=f.read().split()\n",
    "       return list(map(int,filedata))\n",
    "def percentageFailed(filepath):\n",
    "   markslist=readmarkslist(filepath)\n",
    "   filedcount=len(list(filter(lambda marks : marks <40,markslist)))\n",
    "   return (filedcount/len(markslist))*100\n",
    "def percentagepassed(filepath):\n",
    "   markslist=readmarkslist(filepath)\n",
    "   passedcount=len(list(filter(lambda marks : marks >40,markslist)))\n",
    "   return (passedcount/len(markslist))*100\n",
    "def dictinction(filepath):\n",
    "   markslist=readmarkslist(filepath)\n",
    "   Dict=len(list(filter(lambda marks : marks >=75,markslist)))\n",
    "   return (Dict/len(markslist))*100\n",
    "def classavg(filepath):\n",
    "   markslist=readmarkslist(filepath)\n",
    "   return sum(markslist)//len(markslist)\n",
    "def freqofhighest(filepath):\n",
    "   marksdata=readmarkslist(filepath)\n",
    "   return marksdata.count(max(marksdata))\n",
    "def freqoflowest(filepath):\n",
    "   marksdata=readmarkslist(filepath)\n",
    "   return marksdata.count(min(marksdata))\n",
    "freqoflowest('DataFolder/marks.txt')"
   ]
  },
  {
   "cell_type": "code",
   "execution_count": null,
   "metadata": {},
   "outputs": [],
   "source": []
  },
  {
   "cell_type": "code",
   "execution_count": null,
   "metadata": {},
   "outputs": [],
   "source": []
  },
  {
   "cell_type": "markdown",
   "metadata": {},
   "source": [
    "# Data Encription \n",
    "* Encript and Decript Data\n",
    "    * Key ->Mapping data with replcement  another charector \n",
    "            * 0->4\n",
    "            * 1->5\n",
    "            * 2->6\n",
    "            * 3->7\n",
    "            * 4->8\n",
    "            * 5->9\n",
    "            * 6->0\n",
    "            * 7->1\n",
    "            * 8->2\n",
    "            * 9->3\n",
    "            \n",
    "            \n"
   ]
  },
  {
   "cell_type": "code",
   "execution_count": 77,
   "metadata": {},
   "outputs": [],
   "source": [
    "# Function to generate key for Encription \n",
    "keypath='Datafolder/key.txt'\n",
    "def generateKey(keypath):\n",
    "    with open(keypath,'w') as f:\n",
    "        for i in range(10):\n",
    "            if i<6:\n",
    "                f.write(str(i)+' '+str(i+4)+'\\n')\n",
    "            else:\n",
    "                f.write(str(i)+' '+str(i-6)+'\\n')\n",
    "                \n",
    "generateKey(keypath)\n",
    "\n",
    "    \n",
    "    \n",
    "            \n",
    "    \n"
   ]
  },
  {
   "cell_type": "code",
   "execution_count": 83,
   "metadata": {},
   "outputs": [
    {
     "data": {
      "text/plain": [
       "{'0': '4',\n",
       " '1': '5',\n",
       " '2': '6',\n",
       " '3': '7',\n",
       " '4': '8',\n",
       " '5': '9',\n",
       " '6': '0',\n",
       " '7': '1',\n",
       " '8': '2',\n",
       " '9': '3'}"
      ]
     },
     "execution_count": 83,
     "metadata": {},
     "output_type": "execute_result"
    }
   ],
   "source": [
    "#Funtion to encrypt a data file\n",
    "keyfile='Datafolder/key.txt'\n",
    "def dictionaryKeyFile(keyfile):\n",
    "    key={}\n",
    "    with open(keyfile,'r') as f:\n",
    "        for line in f:\n",
    "            line=line.split()\n",
    "            key[line[0]] =line[1]\n",
    "    return key \n",
    "        \n",
    "#def dataencription(datafile,keyfile):\n",
    "    #Step 1: Construct a dictuonary for key data \n",
    "dictionaryKeyFile(keyfile)   \n",
    "    "
   ]
  },
  {
   "cell_type": "code",
   "execution_count": null,
   "metadata": {},
   "outputs": [],
   "source": []
  }
 ],
 "metadata": {
  "kernelspec": {
   "display_name": "Python 3",
   "language": "python",
   "name": "python3"
  },
  "language_info": {
   "codemirror_mode": {
    "name": "ipython",
    "version": 3
   },
   "file_extension": ".py",
   "mimetype": "text/x-python",
   "name": "python",
   "nbconvert_exporter": "python",
   "pygments_lexer": "ipython3",
   "version": "3.7.3"
  }
 },
 "nbformat": 4,
 "nbformat_minor": 2
}
