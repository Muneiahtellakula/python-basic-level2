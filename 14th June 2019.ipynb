{
 "cells": [
  {
   "cell_type": "markdown",
   "metadata": {},
   "source": [
    "# Day objective\n",
    " \n",
    "* Python Data Structures<br>\n",
    "    Lists<br>\n",
    "    Tuples<br>\n",
    "    Dictionaries<br>\n",
    "* Basic Problem set on Data Structures<br>\n",
    "* Advanced Problem Set<br>\n",
    "* Packages and Modules in Python<br>"
   ]
  },
  {
   "cell_type": "markdown",
   "metadata": {},
   "source": [
    "# Python Data Structures\n",
    "## List\n",
    "    * Collection of data \n",
    "    * It allow to store data and it follows CURD Oparations"
   ]
  },
  {
   "cell_type": "code",
   "execution_count": 22,
   "metadata": {},
   "outputs": [
    {
     "data": {
      "text/plain": [
       "[978]"
      ]
     },
     "execution_count": 22,
     "metadata": {},
     "output_type": "execute_result"
    }
   ],
   "source": [
    "#List creation reprasentation is \"[]\"\n",
    "li=[123,978,654]\n",
    "li #Access the entire List \n",
    "li[1] #Accessing an Indexall elements from second \n",
    "li[1:]#Accessing except first element\n",
    "li[::-1]#just changes the list but not original list \n",
    "li=li[::-1]#original list updated \n",
    "#even elements accesing\n",
    "li[::2]\n",
    "#all odd elements\n",
    "li[1::2]\n"
   ]
  },
  {
   "cell_type": "markdown",
   "metadata": {},
   "source": [
    "### Adding an element to end of the list\n",
    "#Lists can be accesed ,Manipulated in two diffarent ways \n",
    "    - Direct Refarencing -accessing through [index]\n",
    "    - Indirect Referencing -accessing through functions ()"
   ]
  },
  {
   "cell_type": "code",
   "execution_count": 23,
   "metadata": {},
   "outputs": [
    {
     "data": {
      "text/plain": [
       "[654, 978, 123]"
      ]
     },
     "execution_count": 23,
     "metadata": {},
     "output_type": "execute_result"
    }
   ],
   "source": [
    "li"
   ]
  },
  {
   "cell_type": "code",
   "execution_count": 27,
   "metadata": {},
   "outputs": [
    {
     "data": {
      "text/plain": [
       "[123, 234, 345, 654]"
      ]
     },
     "execution_count": 27,
     "metadata": {},
     "output_type": "execute_result"
    }
   ],
   "source": [
    "li = [654, 978, 123]\n",
    "#add a value\n",
    "li.append(345) # add an element in end of the list \n",
    "li\n",
    "li.insert(1,234)#adding a specifc index or paticular index\n",
    "li\n",
    "li.sort()#Sort an elemnets in assending order\n",
    "li\n",
    "li.pop()#remove the last element\n",
    "li\n"
   ]
  },
  {
   "cell_type": "code",
   "execution_count": 27,
   "metadata": {},
   "outputs": [
    {
     "data": {
      "text/plain": [
       "[1, 2, 34567, 456, 4]"
      ]
     },
     "execution_count": 27,
     "metadata": {},
     "output_type": "execute_result"
    }
   ],
   "source": [
    "l1=[1,2,34567,456,4]\n",
    "l1"
   ]
  },
  {
   "cell_type": "code",
   "execution_count": 3,
   "metadata": {},
   "outputs": [
    {
     "data": {
      "text/plain": [
       "[78, 53, 873]"
      ]
     },
     "execution_count": 3,
     "metadata": {},
     "output_type": "execute_result"
    }
   ],
   "source": [
    "list=[78,53,873]\n",
    "list"
   ]
  },
  {
   "cell_type": "code",
   "execution_count": 4,
   "metadata": {},
   "outputs": [
    {
     "data": {
      "text/plain": [
       "[78, 53, 873, 45]"
      ]
     },
     "execution_count": 4,
     "metadata": {},
     "output_type": "execute_result"
    }
   ],
   "source": [
    "list.append(45)\n",
    "list"
   ]
  },
  {
   "cell_type": "code",
   "execution_count": 5,
   "metadata": {},
   "outputs": [
    {
     "data": {
      "text/plain": [
       "[78, 53, 873]"
      ]
     },
     "execution_count": 5,
     "metadata": {},
     "output_type": "execute_result"
    }
   ],
   "source": [
    "list.pop()\n",
    "list"
   ]
  },
  {
   "cell_type": "code",
   "execution_count": 6,
   "metadata": {},
   "outputs": [
    {
     "data": {
      "text/plain": [
       "[36, 89, 35]"
      ]
     },
     "execution_count": 6,
     "metadata": {},
     "output_type": "execute_result"
    }
   ],
   "source": [
    "list2=[36,89,35]\n",
    "list2"
   ]
  },
  {
   "cell_type": "code",
   "execution_count": 7,
   "metadata": {},
   "outputs": [],
   "source": [
    "list.extend(list2)# ,erge list2 into list one"
   ]
  },
  {
   "cell_type": "code",
   "execution_count": 8,
   "metadata": {},
   "outputs": [
    {
     "data": {
      "text/plain": [
       "[78, 53, 873, 36, 89, 35]"
      ]
     },
     "execution_count": 8,
     "metadata": {},
     "output_type": "execute_result"
    }
   ],
   "source": [
    "list"
   ]
  },
  {
   "cell_type": "code",
   "execution_count": 9,
   "metadata": {},
   "outputs": [
    {
     "data": {
      "text/plain": [
       "1164"
      ]
     },
     "execution_count": 9,
     "metadata": {},
     "output_type": "execute_result"
    }
   ],
   "source": [
    "sum(list) #sum of all elements in the list"
   ]
  },
  {
   "cell_type": "code",
   "execution_count": 10,
   "metadata": {},
   "outputs": [
    {
     "data": {
      "text/plain": [
       "873"
      ]
     },
     "execution_count": 10,
     "metadata": {},
     "output_type": "execute_result"
    }
   ],
   "source": [
    "max(list) #Maximum element of list "
   ]
  },
  {
   "cell_type": "code",
   "execution_count": 11,
   "metadata": {},
   "outputs": [
    {
     "data": {
      "text/plain": [
       "6"
      ]
     },
     "execution_count": 11,
     "metadata": {},
     "output_type": "execute_result"
    }
   ],
   "source": [
    "len(list)#find out the length of list"
   ]
  },
  {
   "cell_type": "code",
   "execution_count": 16,
   "metadata": {},
   "outputs": [
    {
     "data": {
      "text/plain": [
       "194.0"
      ]
     },
     "execution_count": 16,
     "metadata": {},
     "output_type": "execute_result"
    }
   ],
   "source": [
    "#Avarage elemtes of list\n",
    "sum(list)/len(list)"
   ]
  },
  {
   "cell_type": "code",
   "execution_count": 19,
   "metadata": {},
   "outputs": [
    {
     "data": {
      "text/plain": [
       "['__add__',\n",
       " '__class__',\n",
       " '__contains__',\n",
       " '__delattr__',\n",
       " '__delitem__',\n",
       " '__dir__',\n",
       " '__doc__',\n",
       " '__eq__',\n",
       " '__format__',\n",
       " '__ge__',\n",
       " '__getattribute__',\n",
       " '__getitem__',\n",
       " '__gt__',\n",
       " '__hash__',\n",
       " '__iadd__',\n",
       " '__imul__',\n",
       " '__init__',\n",
       " '__init_subclass__',\n",
       " '__iter__',\n",
       " '__le__',\n",
       " '__len__',\n",
       " '__lt__',\n",
       " '__mul__',\n",
       " '__ne__',\n",
       " '__new__',\n",
       " '__reduce__',\n",
       " '__reduce_ex__',\n",
       " '__repr__',\n",
       " '__reversed__',\n",
       " '__rmul__',\n",
       " '__setattr__',\n",
       " '__setitem__',\n",
       " '__sizeof__',\n",
       " '__str__',\n",
       " '__subclasshook__',\n",
       " 'append',\n",
       " 'clear',\n",
       " 'copy',\n",
       " 'count',\n",
       " 'extend',\n",
       " 'index',\n",
       " 'insert',\n",
       " 'pop',\n",
       " 'remove',\n",
       " 'reverse',\n",
       " 'sort']"
      ]
     },
     "execution_count": 19,
     "metadata": {},
     "output_type": "execute_result"
    }
   ],
   "source": [
    "#Average of all alternative elements even number \n",
    "#odd elemts accessing list[1::2]\n",
    "#even elements accessing list[::2]\n",
    "sum(list[1::2])/len(list[::2])\n",
    "dir(list)"
   ]
  },
  {
   "cell_type": "markdown",
   "metadata": {},
   "source": [
    "## Task\n",
    "### Function to identify the scond largest element in the list\n",
    "* sort the data and select the second Largest elemnent\n",
    "* Sort the data in reverse order ,and select the second element \n",
    "* Remove the max element and then get the max of the second higest \n",
    "* "
   ]
  },
  {
   "cell_type": "code",
   "execution_count": 34,
   "metadata": {},
   "outputs": [
    {
     "data": {
      "text/plain": [
       "100"
      ]
     },
     "execution_count": 34,
     "metadata": {},
     "output_type": "execute_result"
    }
   ],
   "source": [
    "mylist=[7,54,3,92,100,100,92,23,23,65,-1]\n",
    "def secondLargest(mylist):\n",
    "    mylist.sort()\n",
    "    return mylist[-2]\n",
    "secondLargest(mylist)\n",
    "   \n",
    "    \n",
    "    \n",
    "    "
   ]
  },
  {
   "cell_type": "code",
   "execution_count": 35,
   "metadata": {},
   "outputs": [
    {
     "data": {
      "text/plain": [
       "[-1, 3, 7, 23, 23, 54, 65, 92, 92, 100, 100]"
      ]
     },
     "execution_count": 35,
     "metadata": {},
     "output_type": "execute_result"
    }
   ],
   "source": [
    "mylist"
   ]
  },
  {
   "cell_type": "code",
   "execution_count": 63,
   "metadata": {},
   "outputs": [
    {
     "data": {
      "text/plain": [
       "56"
      ]
     },
     "execution_count": 63,
     "metadata": {},
     "output_type": "execute_result"
    }
   ],
   "source": [
    "mylist=[6,8,9857,36,56,3]\n",
    "def secondLargest(mylist):\n",
    "    mylist.sort()\n",
    "    return mylist[-2]\n",
    "#secondLargest(mylist)\n",
    "\n",
    "# Function that returns the \n",
    "def generateLargest(mylist,n):\n",
    "    mylist.sort()\n",
    "    return mylist[-n]\n",
    "secondLargest(mylist)\n",
    "generateLargest(mylist,2)\n",
    "#mylist"
   ]
  },
  {
   "cell_type": "code",
   "execution_count": 84,
   "metadata": {},
   "outputs": [
    {
     "data": {
      "text/plain": [
       "[3, 6, 8, 36, 56, 9857]"
      ]
     },
     "execution_count": 84,
     "metadata": {},
     "output_type": "execute_result"
    }
   ],
   "source": [
    "#Function to search for data in a list \n",
    "#Search for the key in the list and return theindex of the key .return -1 if key not found \n",
    "def linearSearch(mylist,key):\n",
    "    for index in range(0,len(mylist)):\n",
    "        if mylist[index]==key:\n",
    "            return index + 1 # if eliment in list returns index value\n",
    "    return -1 # if eliment in list returns index value -1 \n",
    "linearSearch(mylist,6)  \n",
    "def linearSearch2(mylist,key):\n",
    "    for element in mylist:\n",
    "        if element == key:\n",
    "            return mylist.index(element)\n",
    "        return -1\n",
    "linearSearch2(mylist,234)# elemnt not found\n",
    "#singleline \n",
    "#try:\n",
    " #   mylist(2)\n",
    "#except:\n",
    " #   print(-1)\n",
    "def linearsearch3(mylist,key):\n",
    "    if key in mylist:\n",
    "        return mylist.index(key)\n",
    "    return -1\n",
    "linearsearch3(mylist,56)\n",
    "    \n",
    "#mylist\n"
   ]
  },
  {
   "cell_type": "code",
   "execution_count": 104,
   "metadata": {},
   "outputs": [
    {
     "data": {
      "text/plain": [
       "2"
      ]
     },
     "execution_count": 104,
     "metadata": {},
     "output_type": "execute_result"
    }
   ],
   "source": [
    "#Functions to Count the  occurences of a charector in given string\n",
    "#\"python Programming \",m-->2\n",
    "name=\"python programming\"\n",
    "def searchCharector(name):\n",
    "    return name.count(\"t\")\n",
    "searchCharector(name)\n",
    "#name.count(\"m\")\n",
    "def countOccurances(s,c):\n",
    "    count=0\n",
    "    for ch in s :\n",
    "        if ch==c:\n",
    "            count +=1\n",
    "    return count\n",
    "countOccurances(name,\"m\")\n",
    "def countCharectorOcc2(s,c):\n",
    "    return s.count(c)\n",
    "countCharectorOcc2(name,\"g\")\n",
    "\n"
   ]
  },
  {
   "cell_type": "code",
   "execution_count": 111,
   "metadata": {},
   "outputs": [
    {
     "data": {
      "text/plain": [
       "0"
      ]
     },
     "execution_count": 111,
     "metadata": {},
     "output_type": "execute_result"
    }
   ],
   "source": [
    "#Function to find the number of occarences of a substring\n",
    "#\"abcabcddcba\",\"aa\"-->3\n",
    "#def noOfOccarenceString(n,c):\n",
    " #   count =0\n",
    "  #  for ch in n :\n",
    "    #    if\n",
    "def Substring(s,sb):\n",
    "    count=0\n",
    "    for i in range(0,len(s)):\n",
    "        if(sb==s[i-1:i+1]):\n",
    "            count+=1\n",
    "        return count\n",
    "Substring(\"abababaaab\",\"ab\")"
   ]
  },
  {
   "cell_type": "markdown",
   "metadata": {},
   "source": [
    "#Input format \n",
    "    # 1.First line contains size of the array \n",
    "    #Second line contains array elements \n",
    "  ####  1 2 3 4 5 6 7\n",
    "    ### n= int(input())\n",
    "   ####  li=input()\n",
    "  ####  li=s.split()\n",
    "    \n",
    "    \n",
    "\n",
    "    "
   ]
  },
  {
   "cell_type": "code",
   "execution_count": 113,
   "metadata": {},
   "outputs": [
    {
     "data": {
      "text/plain": [
       "[1, 2, 3, 4, 5, 6]"
      ]
     },
     "execution_count": 113,
     "metadata": {},
     "output_type": "execute_result"
    }
   ],
   "source": [
    "s=\"1 2 3 4 5 6 \"\n",
    "li=s.split()\n",
    "li\n",
    "numberlist = []\n",
    "for i in li:\n",
    "    numberlist.append(int(i))\n",
    "numberlist"
   ]
  },
  {
   "cell_type": "markdown",
   "metadata": {},
   "source": [
    "# Practice test \n",
    "1 "
   ]
  },
  {
   "cell_type": "code",
   "execution_count": 114,
   "metadata": {},
   "outputs": [
    {
     "data": {
      "text/plain": [
       "['1', '2', '3', '4', '5', '6']"
      ]
     },
     "execution_count": 114,
     "metadata": {},
     "output_type": "execute_result"
    }
   ],
   "source": [
    "li"
   ]
  },
  {
   "cell_type": "code",
   "execution_count": 2,
   "metadata": {},
   "outputs": [
    {
     "name": "stdout",
     "output_type": "stream",
     "text": [
      "3\n"
     ]
    },
    {
     "data": {
      "text/plain": [
       "14"
      ]
     },
     "execution_count": 2,
     "metadata": {},
     "output_type": "execute_result"
    }
   ],
   "source": [
    "n=int(input())\n",
    "def sumSqureNaturalNumbers(n):\n",
    "    sum =0\n",
    "    for i in range(1,n+1):\n",
    "        sum = sum + i ** 2\n",
    "    return sum\n",
    "sumSqureNaturalNumbers(n)\n",
    "    \n",
    "    "
   ]
  },
  {
   "cell_type": "code",
   "execution_count": 13,
   "metadata": {},
   "outputs": [
    {
     "ename": "SyntaxError",
     "evalue": "invalid syntax (<ipython-input-13-52ebeab9bd38>, line 33)",
     "output_type": "error",
     "traceback": [
      "\u001b[1;36m  File \u001b[1;32m\"<ipython-input-13-52ebeab9bd38>\"\u001b[1;36m, line \u001b[1;32m33\u001b[0m\n\u001b[1;33m    else abs(nc)<pc:\u001b[0m\n\u001b[1;37m           ^\u001b[0m\n\u001b[1;31mSyntaxError\u001b[0m\u001b[1;31m:\u001b[0m invalid syntax\n"
     ]
    }
   ],
   "source": [
    "n= int(input())\n",
    "s= input() #\"1 2 3 4 5\"\n",
    "s= s.split()\n",
    "lis=[]\n",
    "for i in s:\n",
    "    lis.append(int(i))\n",
    "#-1000 100 1 2 3 4 \n",
    "def closestZero(li):\n",
    "    for i in s:\n",
    "        lis.append(abs(int(i)))\n",
    "min(lis)\n",
    "\n",
    "#separate all numbers less than zero and take max \n",
    "#all number grater=zero, get the input\n",
    "#-1 2 5 -10 -20 \n",
    "#-1 -10 -20 -->-1 grater value\n",
    "#2 5 ->2 min value\n",
    "#-2 1 ->\n",
    "n1=[]\n",
    "for i in lis:\n",
    "    if i <0:\n",
    "        n1.append(i)\n",
    "p1=[]\n",
    "for i in lis:\n",
    "    if i>= 0:\n",
    "        p1.append(i)\n",
    "nc=max(n1)\n",
    "pc=min(p1)\n",
    "if pc==0:\n",
    "    return pc\n",
    "if nc==pc:\n",
    "    return pc\n",
    "else abs(nc)==pc:\n",
    "    return abs(nc)\n",
    "else:\n",
    "    return pc\n",
    "closestZero(li)"
   ]
  },
  {
   "cell_type": "code",
   "execution_count": 18,
   "metadata": {},
   "outputs": [
    {
     "ename": "SyntaxError",
     "evalue": "invalid syntax (<ipython-input-18-6f93e12731c1>, line 9)",
     "output_type": "error",
     "traceback": [
      "\u001b[1;36m  File \u001b[1;32m\"<ipython-input-18-6f93e12731c1>\"\u001b[1;36m, line \u001b[1;32m9\u001b[0m\n\u001b[1;33m    min(lii)\u001b[0m\n\u001b[1;37m      ^\u001b[0m\n\u001b[1;31mSyntaxError\u001b[0m\u001b[1;31m:\u001b[0m invalid syntax\n"
     ]
    }
   ],
   "source": [
    "n= int(int())\n",
    "s=input()\n",
    "s=s.split()\n",
    "lii=[]\n",
    "#convert in to interger\n",
    "for i in s:\n",
    "    lii.append(abs(int(i))\n",
    "for i in range(0,max(li))\n",
    "               \n",
    "min(lii)\n",
    "\n"
   ]
  },
  {
   "cell_type": "code",
   "execution_count": null,
   "metadata": {},
   "outputs": [],
   "source": [
    "3"
   ]
  }
 ],
 "metadata": {
  "kernelspec": {
   "display_name": "Python 3",
   "language": "python",
   "name": "python3"
  },
  "language_info": {
   "codemirror_mode": {
    "name": "ipython",
    "version": 3
   },
   "file_extension": ".py",
   "mimetype": "text/x-python",
   "name": "python",
   "nbconvert_exporter": "python",
   "pygments_lexer": "ipython3",
   "version": "3.7.3"
  }
 },
 "nbformat": 4,
 "nbformat_minor": 2
}
