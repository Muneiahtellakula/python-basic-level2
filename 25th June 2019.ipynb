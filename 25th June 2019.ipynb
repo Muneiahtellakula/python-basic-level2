{
 "cells": [
  {
   "cell_type": "code",
   "execution_count": 6,
   "metadata": {},
   "outputs": [
    {
     "name": "stdout",
     "output_type": "stream",
     "text": [
      "1234567890\n",
      "45\n"
     ]
    }
   ],
   "source": [
    "s1=(input())\n",
    "sum=0\n",
    "for i in s1:\n",
    "    sum=sum+int(i)\n",
    "print(sum)"
   ]
  },
  {
   "cell_type": "code",
   "execution_count": 3,
   "metadata": {},
   "outputs": [
    {
     "name": "stdout",
     "output_type": "stream",
     "text": [
      "123abc456def\n",
      "0 1 1 1 1 1 1 0 0 0 "
     ]
    }
   ],
   "source": [
    "n=(input())\n",
    "for i in range(0,10):\n",
    "    print(n.count(str(i)),end=' ')\n"
   ]
  },
  {
   "cell_type": "code",
   "execution_count": 4,
   "metadata": {},
   "outputs": [
    {
     "name": "stdout",
     "output_type": "stream",
     "text": [
      "1234567890\n",
      "1 1 1 1 1 1 1 1 1 1 "
     ]
    }
   ],
   "source": [
    "n=(input())\n",
    "for i in range(0,10):\n",
    "    print(n.count(str(i)),end=' ')"
   ]
  },
  {
   "cell_type": "code",
   "execution_count": null,
   "metadata": {},
   "outputs": [],
   "source": [
    "#s=123abc456def-->0 1 1 1 1 1 1 0 0 0 \n",
    "#a11472o5t6    -->0 2 1 0 1 1 1 1 0 0 "
   ]
  },
  {
   "cell_type": "code",
   "execution_count": 14,
   "metadata": {},
   "outputs": [
    {
     "name": "stdout",
     "output_type": "stream",
     "text": [
      "1 1 1 1 1 1 0 0 1 1 "
     ]
    }
   ],
   "source": [
    "def uniqueData(allnumbers):\n",
    "    unique =[]\n",
    "    for n in allnumbers:\n",
    "        if n not in unique:\n",
    "            unique.append(n)\n",
    "    return unique\n",
    "def digitFrequency1(s):\n",
    "    allnumbers=[]\n",
    "    for i in s:\n",
    "        if i.isdigit():\n",
    "            allnumbers.append(i)\n",
    "    unique =  uniqueData(allnumbers)   \n",
    "    for i in range(0,10):\n",
    "        if str(i) not in unique:\n",
    "            print(0,end=' ')\n",
    "        else:\n",
    "            count= allnumbers.count(str(i))\n",
    "            print(count,end=' ')\n",
    "digitFrequency1('12345fh890')\n",
    "  "
   ]
  },
  {
   "cell_type": "code",
   "execution_count": 28,
   "metadata": {},
   "outputs": [],
   "source": [
    "#Marks Application\n",
    "from random import randint \n",
    "def genMarks(n,lb,ub):\n",
    "    with open('datafolder/marks.txt','w') as fw:\n",
    "        for i in range(n):\n",
    "            r=randint(lb,ub)\n",
    "            fw.write(str(r)+\"\\n\")\n",
    "    return\n",
    "genMarks(10,0,100)\n",
    "\n",
    "            \n",
    "            \n",
    "    "
   ]
  },
  {
   "cell_type": "code",
   "execution_count": 19,
   "metadata": {},
   "outputs": [
    {
     "data": {
      "text/plain": [
       "('passed students ', 9)"
      ]
     },
     "execution_count": 19,
     "metadata": {},
     "output_type": "execute_result"
    }
   ],
   "source": [
    "#passed students\n",
    "def passStudents():\n",
    "    count=0\n",
    "    with open('datafolder/marks.txt','r') as ps:\n",
    "        for i in ps:\n",
    "            if i>='35':\n",
    "                count+=1\n",
    "    return 'passed students ',count\n",
    "passStudents()\n",
    "    "
   ]
  },
  {
   "cell_type": "code",
   "execution_count": 20,
   "metadata": {},
   "outputs": [
    {
     "data": {
      "text/plain": [
       "('faild students ', 3)"
      ]
     },
     "execution_count": 20,
     "metadata": {},
     "output_type": "execute_result"
    }
   ],
   "source": [
    "#faild students\n",
    "def faildStudents():\n",
    "    count=0\n",
    "    with open('datafolder/marks.txt','r') as ps:\n",
    "        for i in ps:\n",
    "            if i<='35':\n",
    "                count+=1\n",
    "    return 'faild students ',count\n",
    "faildStudents()"
   ]
  },
  {
   "cell_type": "code",
   "execution_count": 18,
   "metadata": {},
   "outputs": [
    {
     "data": {
      "text/plain": [
       "('avg=', 71.0)"
      ]
     },
     "execution_count": 18,
     "metadata": {},
     "output_type": "execute_result"
    }
   ],
   "source": [
    "#Class Avarage\n",
    "def avgOfPassedStudents():\n",
    "    sum=0\n",
    "    with open('datafolder/marks.txt','r') as ps:\n",
    "        for i in ps:\n",
    "            sum=sum+int(i)         \n",
    "        return 'avg students =',sum/10\n",
    "avgOfPassedStudents()"
   ]
  },
  {
   "cell_type": "code",
   "execution_count": 21,
   "metadata": {},
   "outputs": [
    {
     "name": "stdout",
     "output_type": "stream",
     "text": [
      "Freq of Hightest students Marks : 2\n"
     ]
    }
   ],
   "source": [
    "#freqvency of higest marks \n",
    "def feqOfHightMarks():\n",
    "    count=0\n",
    "    l=[]\n",
    "    with open('datafolder/marks.txt','r') as ps:\n",
    "        for i in ps:\n",
    "            l.append(int(i))\n",
    "    m=max(l)\n",
    "    m=l.count(m)\n",
    "    print(\"Freq of Hightest students Marks :\",m)\n",
    "    return \n",
    "feqOfHightMarks()"
   ]
  },
  {
   "cell_type": "code",
   "execution_count": 10,
   "metadata": {},
   "outputs": [
    {
     "name": "stdout",
     "output_type": "stream",
     "text": [
      "Freq of Lowest students Marks : 3\n"
     ]
    }
   ],
   "source": [
    "#freqvency of lowest marks \n",
    "def feqOfLowesttMarks():\n",
    "    count=0\n",
    "    l=[]\n",
    "    with open('datafolder/marks.txt','r') as ps:\n",
    "        for i in ps:\n",
    "            l.append(int(i))\n",
    "    m=min(l)\n",
    "    m=l.count(m)\n",
    "    print(\"Freq of Lowest students Marks :\",m)\n",
    "    return \n",
    "feqOfLowesttMarks()"
   ]
  },
  {
   "cell_type": "code",
   "execution_count": null,
   "metadata": {},
   "outputs": [
    {
     "name": "stdout",
     "output_type": "stream",
     "text": [
      "1-Passed %:\n",
      "2-Avg of students:\n"
     ]
    }
   ],
   "source": [
    " while True:\n",
    "    print(\"1-Passed %:\\n2-Avg of students:\")\n",
    "    c=int(input())\n",
    "    if c==1:\n",
    "        print(passStudents())\n",
    "        break\n",
    "    if c==2:\n",
    "        print(faildStudents())\n",
    "    if c==3:\n",
    "        print(avgOfPassedStudents())\n",
    "    if c==4:\n",
    "        print(feqOfHightMarks())\n",
    "    if c==5:\n",
    "        print(feqOfLowesttMarks())\n",
    "    \n",
    "    break\n"
   ]
  },
  {
   "cell_type": "markdown",
   "metadata": {},
   "source": [
    "### for _ in range(int(input())):\n",
    "    a=input()\n",
    "    b=input()\n",
    "    a1=[0]*26\n",
    "    b1=[0]*26\n",
    "    for ele in a:\n",
    "        a1[ord(ele)-97]+=1\n",
    "    for ele in b:\n",
    "        b1[ord(ele)-97]+=1\n",
    "    res=0\n",
    "    for h in range(26):\n",
    "        res=res+(abs(a1[h]-b1[h]))\n",
    "    print(res)"
   ]
  },
  {
   "cell_type": "markdown",
   "metadata": {},
   "source": [
    "# Anagrams\n",
    "* Function to check the two strings are Anagrams"
   ]
  },
  {
   "cell_type": "code",
   "execution_count": 5,
   "metadata": {},
   "outputs": [
    {
     "data": {
      "text/plain": [
       "False"
      ]
     },
     "execution_count": 5,
     "metadata": {},
     "output_type": "execute_result"
    }
   ],
   "source": [
    "#abc cba--> True\n",
    "#aabcc ccbbaaa-->Flase bcz.. Length not be equval\n",
    "def checkAnagram(s1,s2):\n",
    "    if len(s1)!=len(s2):\n",
    "        return False\n",
    "    if sorted(s1)==sorted(s2):\n",
    "        return True\n",
    "    return False\n",
    "#checkAnagram(\"abc\",\"cba\")\n",
    "checkAnagram(\"aabbcc\",\"ccbbaaa\")\n",
    "    \n",
    "    \n"
   ]
  },
  {
   "cell_type": "code",
   "execution_count": null,
   "metadata": {},
   "outputs": [],
   "source": [
    "t=int(input())\n",
    "def charDeletionAnagrams(s1,s2):\n",
    "    uncommn =[]\n",
    "    for i in s1:\n",
    "        if i not in s2:\n",
    "            uncommn.append(i)\n",
    "    for i in s2:\n",
    "        if i not in s1:\n",
    "            uncommn.append(i)\n",
    "    count =len(uncommn)\n",
    "    freqs1={}\n",
    "    freqs2={}\n",
    "    uniqs1=[]\n",
    "    uniqs2=[]\n",
    "#Common charector freqvency count\n",
    "    for i in s1:\n",
    "        if i not in uncommn and i not in uniqs1: \n",
    "            freqs1[i]=s1.count(i)\n",
    "            uniqs1.append(i)\n",
    "    for i in s2:\n",
    "        if i not in uncommn and i not in uniqs2: \n",
    "            freqs2[i]=s2.count(i)\n",
    "            uniqs2.append(i)\n",
    "    for key in freqs1.keys():\n",
    "        count+=abs(freqs1[key]-freqs2[key])\n",
    "    return count\n",
    "\n",
    "\n",
    "for i in range(0,t):\n",
    "     s1=input()\n",
    "     s2=input()\n",
    "     print(charDeletionAnagrams(s1,s2))\n",
    "        \n",
    "    \n",
    "    "
   ]
  },
  {
   "cell_type": "code",
   "execution_count": 11,
   "metadata": {},
   "outputs": [
    {
     "data": {
      "text/plain": [
       "5"
      ]
     },
     "execution_count": 11,
     "metadata": {},
     "output_type": "execute_result"
    }
   ],
   "source": [
    "def checkAnagram(s1,s2):\n",
    "    if len(s1)!=len(s2):\n",
    "        return False\n",
    "    if sorted(s1)==sorted(s2):\n",
    "        return True\n",
    "    return False\n",
    "def charDeletionAnagrams(s1,s2):\n",
    "    uncommn =[]\n",
    "    for i in s1:\n",
    "        if i not in s2:\n",
    "            uncommn.append(i)\n",
    "    for i in s2:\n",
    "        if i not in s1:\n",
    "            uncommn.append(i)\n",
    "    count =len(uncommn)\n",
    "    # freqs1 -->Frequency of common Charectors in s1\n",
    "    freqs1={}\n",
    "    freqs2={}\n",
    "    uniqs1=[]\n",
    "    uniqs2=[]\n",
    "#Common charector freqvency count common charector in s1\n",
    "    for i in s1:\n",
    "        if i not in uncommn and i not in uniqs1: \n",
    "            freqs1[i]=s1.count(i)\n",
    "            uniqs1.append(i)\n",
    "#Common charector freqvency count common charector in s1\n",
    "    for i in s2:\n",
    "        if i not in uncommn and i not in uniqs2: \n",
    "            freqs2[i]=s2.count(i)\n",
    "            uniqs2.append(i)\n",
    "#Diffenrences in frequencies for common charectors for count\n",
    "    for key in freqs1.keys():\n",
    "        count+=abs(freqs1[key]-freqs2[key])\n",
    "    return count\n",
    "#charDeletionAnagrams(\"cde\",\"abc\")\n",
    "charDeletionAnagrams(\"abccde\",\"aabcb\")           \n",
    "            \n",
    "        \n",
    "        \n"
   ]
  },
  {
   "cell_type": "code",
   "execution_count": null,
   "metadata": {},
   "outputs": [],
   "source": [
    "#Anagarams one more sol\n",
    "for _ in range(int(input())):\n",
    "    a=input()\n",
    "    b=input()\n",
    "    a1=[0]*26\n",
    "    b1=[0]*26\n",
    "    for ele in a:\n",
    "        a1[ord(ele)-97]+=1\n",
    "    for ele in b:\n",
    "        b1[ord(ele)-97]+=1\n",
    "    res=0\n",
    "    for h in range(26):\n",
    "        res=res+(abs(a1[h]-b1[h]))\n",
    "    print(res)\n",
    "    "
   ]
  },
  {
   "cell_type": "code",
   "execution_count": 2,
   "metadata": {},
   "outputs": [
    {
     "name": "stdout",
     "output_type": "stream",
     "text": [
      "1\n",
      "10\n"
     ]
    },
    {
     "data": {
      "text/plain": [
       "0"
      ]
     },
     "execution_count": 2,
     "metadata": {},
     "output_type": "execute_result"
    }
   ],
   "source": [
    "#Avg of 1 to 10 given numbers\n",
    "lb=int(input())\n",
    "ub=int(input())\n",
    "def avgRange(lb,up):\n",
    "    sum=0\n",
    "    count=0\n",
    "    for i in range(lb,ub+1):\n",
    "        sum+=i\n",
    "        count =ub-lb+1\n",
    "        return sum//count\n",
    "avgRange(lb,ub)"
   ]
  },
  {
   "cell_type": "code",
   "execution_count": 10,
   "metadata": {},
   "outputs": [
    {
     "data": {
      "text/plain": [
       "-1"
      ]
     },
     "execution_count": 10,
     "metadata": {},
     "output_type": "execute_result"
    }
   ],
   "source": [
    "#{a:4,g:9,i:6,p:213,c:6}\n",
    "#[4,6,6,9,213]\n",
    "#[a,c,g,i,p]\n",
    "#k=3\n",
    "def kLargestFreq(s,k):\n",
    "    #Constrauct the freq di\n",
    "    #unique=[]\n",
    "    freq={}\n",
    "    for i in s:\n",
    "        if i not in freq.keys():\n",
    "            freq[i]=s.count(i)\n",
    "    values=sorted(freq.values(),reverse=True)\n",
    "    uniqueValues=set(values)\n",
    "    uniqueValues=sorted(uniqueValues,reverse=True)\n",
    "    if k <len(uniqueValues):\n",
    "        kvalue=uniqueValues[k-1]\n",
    "        li=[]\n",
    "    else:\n",
    "        return -1\n",
    "    for item in freq.items():\n",
    "        if item[1]==kvalue:\n",
    "            li.append(item[0])\n",
    "    return min(li)\n",
    "#kLargestFreq('aabcd',3)\n",
    "with open('packages/input.txt','r') as f:\n",
    "    t=int(input())\n",
    "    for i in range(t):\n",
    "        s=f.readline()\n",
    "        k=int(f.readline())\n",
    "        print(kLargestFreq(s,k))\n",
    "\n",
    "\n",
    "\n",
    "\n",
    "   \n",
    "    \n",
    "\n"
   ]
  },
  {
   "cell_type": "code",
   "execution_count": null,
   "metadata": {},
   "outputs": [],
   "source": []
  }
 ],
 "metadata": {
  "kernelspec": {
   "display_name": "Python 3",
   "language": "python",
   "name": "python3"
  },
  "language_info": {
   "codemirror_mode": {
    "name": "ipython",
    "version": 3
   },
   "file_extension": ".py",
   "mimetype": "text/x-python",
   "name": "python",
   "nbconvert_exporter": "python",
   "pygments_lexer": "ipython3",
   "version": "3.7.3"
  }
 },
 "nbformat": 4,
 "nbformat_minor": 2
}
